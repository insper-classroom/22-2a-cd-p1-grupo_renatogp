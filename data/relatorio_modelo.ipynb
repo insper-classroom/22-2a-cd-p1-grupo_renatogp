{
 "cells": [
  {
   "cell_type": "markdown",
   "metadata": {},
   "source": [
    "# Projeto 1 - Ciência dos Dados"
   ]
  },
  {
   "cell_type": "markdown",
   "metadata": {},
   "source": [
    "Nome: Beatriz Borges Zackiewicz\n",
    "\n",
    "Nome: Renato Guedes Passarelli"
   ]
  },
  {
   "cell_type": "markdown",
   "metadata": {},
   "source": [
    "Atenção: Serão permitidos grupos de três pessoas, mas com uma rubrica mais exigente. Grupos deste tamanho precisarão fazer um questionário de avaliação de trabalho em equipe"
   ]
  },
  {
   "cell_type": "markdown",
   "metadata": {},
   "source": [
    "___\n",
    "Carregando algumas bibliotecas:"
   ]
  },
  {
   "cell_type": "code",
   "execution_count": 86,
   "metadata": {},
   "outputs": [],
   "source": [
    "%matplotlib inline\n",
    "import pandas as pd\n",
    "import matplotlib.pyplot as plt\n",
    "import numpy as np\n",
    "import os"
   ]
  },
  {
   "cell_type": "code",
   "execution_count": 87,
   "metadata": {
    "scrolled": false
   },
   "outputs": [
    {
     "name": "stdout",
     "output_type": "stream",
     "text": [
      "Esperamos trabalhar no diretório\n",
      "c:\\Users\\bebec\\OneDrive\\Área de Trabalho\\INSPER\\CDADOS\\CD22-2\\projeto01\\22-2a-cd-p1-grupo_renatogp\\data\n"
     ]
    }
   ],
   "source": [
    "print('Esperamos trabalhar no diretório')\n",
    "print(os.getcwd())"
   ]
  },
  {
   "cell_type": "markdown",
   "metadata": {},
   "source": [
    "Carregando a base de dados com as notícias classificadas manualmente:"
   ]
  },
  {
   "cell_type": "code",
   "execution_count": 88,
   "metadata": {},
   "outputs": [],
   "source": [
    "filename = 'dados.xlsx'"
   ]
  },
  {
   "cell_type": "code",
   "execution_count": 89,
   "metadata": {},
   "outputs": [
    {
     "data": {
      "text/html": [
       "<div>\n",
       "<style scoped>\n",
       "    .dataframe tbody tr th:only-of-type {\n",
       "        vertical-align: middle;\n",
       "    }\n",
       "\n",
       "    .dataframe tbody tr th {\n",
       "        vertical-align: top;\n",
       "    }\n",
       "\n",
       "    .dataframe thead th {\n",
       "        text-align: right;\n",
       "    }\n",
       "</style>\n",
       "<table border=\"1\" class=\"dataframe\">\n",
       "  <thead>\n",
       "    <tr style=\"text-align: right;\">\n",
       "      <th></th>\n",
       "      <th>Categoria</th>\n",
       "      <th>Titulo</th>\n",
       "      <th>PrimeiroParag</th>\n",
       "      <th>Data</th>\n",
       "      <th>Pagina</th>\n",
       "      <th>Target</th>\n",
       "    </tr>\n",
       "  </thead>\n",
       "  <tbody>\n",
       "    <tr>\n",
       "      <th>0</th>\n",
       "      <td>MT Labs</td>\n",
       "      <td>Pix agendado: você foi selecionado para ter a ...</td>\n",
       "      <td>Atenção: se o algoritmo do Google entregou ess...</td>\n",
       "      <td>13/07/2022 - 15:30</td>\n",
       "      <td>51</td>\n",
       "      <td>0</td>\n",
       "    </tr>\n",
       "    <tr>\n",
       "      <th>1</th>\n",
       "      <td>Economia</td>\n",
       "      <td>Gestores ‘de lado’ no câmbio com fim do ciclo ...</td>\n",
       "      <td>Uma corrida eleitoral mais acirrada do que o e...</td>\n",
       "      <td>09/08/2022 - 15:45</td>\n",
       "      <td>19</td>\n",
       "      <td>1</td>\n",
       "    </tr>\n",
       "    <tr>\n",
       "      <th>2</th>\n",
       "      <td>Ibovespa Futuro</td>\n",
       "      <td>Ibovespa futuro abre esta sexta-feira em leve ...</td>\n",
       "      <td>O Ibovespa futuro operava em queda na abertura...</td>\n",
       "      <td>08/07/2022 - 9:08</td>\n",
       "      <td>58</td>\n",
       "      <td>1</td>\n",
       "    </tr>\n",
       "    <tr>\n",
       "      <th>3</th>\n",
       "      <td>Café</td>\n",
       "      <td>Contratos futuros de café arábica ampliam perd...</td>\n",
       "      <td>Os contratos futuros do café arábica na ICE fe...</td>\n",
       "      <td>02/09/2022 - 17:32</td>\n",
       "      <td>1</td>\n",
       "      <td>0</td>\n",
       "    </tr>\n",
       "    <tr>\n",
       "      <th>4</th>\n",
       "      <td>Empresas</td>\n",
       "      <td>Com prejuízo bilionário, Gol vai cortar voos; ...</td>\n",
       "      <td>Após anunciar um prejuízo de R$ 2,85 bilhões n...</td>\n",
       "      <td>30/07/2022 - 15:33</td>\n",
       "      <td>28</td>\n",
       "      <td>1</td>\n",
       "    </tr>\n",
       "  </tbody>\n",
       "</table>\n",
       "</div>"
      ],
      "text/plain": [
       "          Categoria                                             Titulo  \\\n",
       "0           MT Labs  Pix agendado: você foi selecionado para ter a ...   \n",
       "1         Economia   Gestores ‘de lado’ no câmbio com fim do ciclo ...   \n",
       "2  Ibovespa Futuro   Ibovespa futuro abre esta sexta-feira em leve ...   \n",
       "3             Café   Contratos futuros de café arábica ampliam perd...   \n",
       "4         Empresas   Com prejuízo bilionário, Gol vai cortar voos; ...   \n",
       "\n",
       "                                       PrimeiroParag                Data  \\\n",
       "0  Atenção: se o algoritmo do Google entregou ess...  13/07/2022 - 15:30   \n",
       "1  Uma corrida eleitoral mais acirrada do que o e...  09/08/2022 - 15:45   \n",
       "2  O Ibovespa futuro operava em queda na abertura...   08/07/2022 - 9:08   \n",
       "3  Os contratos futuros do café arábica na ICE fe...  02/09/2022 - 17:32   \n",
       "4  Após anunciar um prejuízo de R$ 2,85 bilhões n...  30/07/2022 - 15:33   \n",
       "\n",
       "   Pagina  Target  \n",
       "0      51       0  \n",
       "1      19       1  \n",
       "2      58       1  \n",
       "3       1       0  \n",
       "4      28       1  "
      ]
     },
     "execution_count": 89,
     "metadata": {},
     "output_type": "execute_result"
    }
   ],
   "source": [
    "train = pd.read_excel(filename, sheet_name = 'Treinamento')\n",
    "train.head(5)"
   ]
  },
  {
   "cell_type": "code",
   "execution_count": 90,
   "metadata": {},
   "outputs": [
    {
     "data": {
      "text/html": [
       "<div>\n",
       "<style scoped>\n",
       "    .dataframe tbody tr th:only-of-type {\n",
       "        vertical-align: middle;\n",
       "    }\n",
       "\n",
       "    .dataframe tbody tr th {\n",
       "        vertical-align: top;\n",
       "    }\n",
       "\n",
       "    .dataframe thead th {\n",
       "        text-align: right;\n",
       "    }\n",
       "</style>\n",
       "<table border=\"1\" class=\"dataframe\">\n",
       "  <thead>\n",
       "    <tr style=\"text-align: right;\">\n",
       "      <th></th>\n",
       "      <th>Categoria</th>\n",
       "      <th>Titulo</th>\n",
       "      <th>PrimeiroParag</th>\n",
       "      <th>Data</th>\n",
       "      <th>Pagina</th>\n",
       "      <th>Target</th>\n",
       "    </tr>\n",
       "  </thead>\n",
       "  <tbody>\n",
       "    <tr>\n",
       "      <th>0</th>\n",
       "      <td>Mercados</td>\n",
       "      <td>Em dia sem direção definida, Ibovespa (IBOV) f...</td>\n",
       "      <td>O Ibovespa (IBOV) fechou esta terça-feira (12)...</td>\n",
       "      <td>12/07/2022 - 17:08</td>\n",
       "      <td>53</td>\n",
       "      <td>0</td>\n",
       "    </tr>\n",
       "    <tr>\n",
       "      <th>1</th>\n",
       "      <td>Commodities</td>\n",
       "      <td>Soja e milho se ajustam cautelosamente esperan...</td>\n",
       "      <td>No aguardo da direção que os mercados financei...</td>\n",
       "      <td>05/08/2022 - 8:08</td>\n",
       "      <td>22</td>\n",
       "      <td>1</td>\n",
       "    </tr>\n",
       "    <tr>\n",
       "      <th>2</th>\n",
       "      <td>Economia</td>\n",
       "      <td>Banco Central: Previsão de alta do IPCA em 202...</td>\n",
       "      <td>Os economistas ouvidos pelo Banco Central revi...</td>\n",
       "      <td>18/07/2022 - 8:34</td>\n",
       "      <td>46</td>\n",
       "      <td>0</td>\n",
       "    </tr>\n",
       "    <tr>\n",
       "      <th>3</th>\n",
       "      <td>Eleições 2022</td>\n",
       "      <td>Stuhlberger vê risco de ‘república das bananas...</td>\n",
       "      <td>Sócio da Verde Asset Management, o gestor Luis...</td>\n",
       "      <td>04/08/2022 - 7:19</td>\n",
       "      <td>24</td>\n",
       "      <td>0</td>\n",
       "    </tr>\n",
       "    <tr>\n",
       "      <th>4</th>\n",
       "      <td>Mercados</td>\n",
       "      <td>Dólar reage ao Copom e inflação, mas fica bara...</td>\n",
       "      <td>O dólar comercial sobe 0,5%, perto de R$ 5,14,...</td>\n",
       "      <td>09/08/2022 - 11:43</td>\n",
       "      <td>19</td>\n",
       "      <td>1</td>\n",
       "    </tr>\n",
       "  </tbody>\n",
       "</table>\n",
       "</div>"
      ],
      "text/plain": [
       "        Categoria                                             Titulo  \\\n",
       "0       Mercados   Em dia sem direção definida, Ibovespa (IBOV) f...   \n",
       "1    Commodities   Soja e milho se ajustam cautelosamente esperan...   \n",
       "2       Economia   Banco Central: Previsão de alta do IPCA em 202...   \n",
       "3  Eleições 2022   Stuhlberger vê risco de ‘república das bananas...   \n",
       "4       Mercados   Dólar reage ao Copom e inflação, mas fica bara...   \n",
       "\n",
       "                                       PrimeiroParag                Data  \\\n",
       "0  O Ibovespa (IBOV) fechou esta terça-feira (12)...  12/07/2022 - 17:08   \n",
       "1  No aguardo da direção que os mercados financei...   05/08/2022 - 8:08   \n",
       "2  Os economistas ouvidos pelo Banco Central revi...   18/07/2022 - 8:34   \n",
       "3  Sócio da Verde Asset Management, o gestor Luis...   04/08/2022 - 7:19   \n",
       "4  O dólar comercial sobe 0,5%, perto de R$ 5,14,...  09/08/2022 - 11:43   \n",
       "\n",
       "   Pagina  Target  \n",
       "0      53       0  \n",
       "1      22       1  \n",
       "2      46       0  \n",
       "3      24       0  \n",
       "4      19       1  "
      ]
     },
     "execution_count": 90,
     "metadata": {},
     "output_type": "execute_result"
    }
   ],
   "source": [
    "test = pd.read_excel(filename, sheet_name = 'Teste')\n",
    "test.head(5)"
   ]
  },
  {
   "cell_type": "markdown",
   "metadata": {},
   "source": [
    "___\n",
    "## Classificador automático\n"
   ]
  },
  {
   "cell_type": "markdown",
   "metadata": {},
   "source": [
    "Faça aqui uma descrição do seu assunto e o que considerou como relevante ou não relevante na classificação das notícias (Target).\n",
    "Nosso assunto escolhido é sobre o Dólar. Vamos considerar como relevates os seguintes pontos:\n",
    "-Alta\n",
    "-Baixa\n",
    "-Queda\n",
    "-Crescimento\n",
    "-Mercado\n",
    "-Internacional\n",
    "-Estados Unidos\n",
    "-Instabilidade\n",
    "-Moeda\n",
    "-Valor\n",
    "-Preço\n",
    "-Dinheiro\n",
    "\n",
    "As irrelevantes seriam todas que não se encaixam nos padrões acima\n"
   ]
  },
  {
   "cell_type": "markdown",
   "metadata": {},
   "source": [
    "___\n",
    "### Montando um Classificador Naive-Bayes\n",
    "\n",
    "Considerando apenas as mensagens da planilha Treinamento, ensine  seu classificador."
   ]
  },
  {
   "cell_type": "code",
   "execution_count": 100,
   "metadata": {},
   "outputs": [],
   "source": [
    "\n",
    "from IPython.display import display\n",
    "pd.options.display.max_rows = 13\n",
    "import re \n",
    "\n",
    "\n",
    "def cleanup(text):\n",
    "    \"\"\"\n",
    "        Função de limpeza muito simples que troca alguns sinais básicos por espaços\n",
    "    \"\"\"\n",
    "    #import string\n",
    "    punctuation = '[’‘''!-.:?;]' # Note que os sinais [] são delimitadores de um conjunto.\n",
    "    pattern = re.compile(punctuation)\n",
    "    text_subbed = re.sub(pattern, '', text)\n",
    "    return text_subbed\n",
    "\n"
   ]
  },
  {
   "cell_type": "code",
   "execution_count": 105,
   "metadata": {},
   "outputs": [],
   "source": [
    "from functools import total_ordering\n",
    "\n",
    "titulo = train.Titulo.apply(cleanup) # .apply() aplica a função em cada valor da série\n",
    "\n",
    "texto_e_categorias = train.loc[:,['Titulo','PrimeiroParag','Target']]\n",
    "#print(texto_e_categorias.head(10))\n",
    "\n",
    "#primeiro_paragraf = list(train.PrimeiroParag)\n",
    "#clean_primeiro = []\n",
    "#print(len(primeiro_paragraf))\n",
    "\n",
    "tit = list(train.Titulo)\n",
    "p1o = list(train.PrimeiroParag)\n",
    "trgt = list(train.Target)\n",
    "\n",
    "\n",
    "# ideia2 - juntar todas as palavras de cada target e ver as suas frequências\n",
    "relevante_palavras = ''\n",
    "irrelevante_palavras = '' \n",
    "total_vocabulario = ''\n",
    "\n",
    "for i in range(len(train.Titulo)):\n",
    "    tit_noticiai =  cleanup(str(tit[i]))\n",
    "    p1o_noticiai =  cleanup(str(p1o[i]))\n",
    "\n",
    "    tipo = trgt[i]\n",
    "    if tipo == 1:\n",
    "        relevante_palavras += tit_noticiai\n",
    "        relevante_palavras += p1o_noticiai\n",
    "    else: \n",
    "       irrelevante_palavras += p1o_noticiai\n",
    "       irrelevante_palavras += tit_noticiai\n",
    "\n",
    "    total_vocabulario += (tit_noticiai + p1o_noticiai)\n",
    "\n",
    "total_vocabulario = pd.Series(total_vocabulario.lower().split())\n",
    "pal_relevantes = pd.Series(relevante_palavras.lower().split())\n",
    "pal_irrelevantes = pd.Series(irrelevante_palavras.lower().split())\n",
    "\n"
   ]
  },
  {
   "cell_type": "code",
   "execution_count": 106,
   "metadata": {},
   "outputs": [
    {
     "data": {
      "text/plain": [
       "de           866\n",
       "a            428\n",
       "do           392\n",
       "e            386\n",
       "em           383\n",
       "            ... \n",
       "preocupe       1\n",
       "anocompre      1\n",
       "ampliaram      1\n",
       "fracas         1\n",
       "esfriaram      1\n",
       "Length: 3598, dtype: int64"
      ]
     },
     "execution_count": 106,
     "metadata": {},
     "output_type": "execute_result"
    }
   ],
   "source": [
    "# Frequências:\n",
    "# Vocabulário total ---- procurar o jeito que tira o de/a/do/e/etc. \n",
    "total_vocabulario.value_counts()"
   ]
  },
  {
   "cell_type": "code",
   "execution_count": 107,
   "metadata": {},
   "outputs": [
    {
     "data": {
      "text/plain": [
       "de                471\n",
       "a                 210\n",
       "do                203\n",
       "e                 203\n",
       "o                 187\n",
       "                 ... \n",
       "agressivamente      1\n",
       "apertam             1\n",
       "centrais            1\n",
       "bancos              1\n",
       "pouco               1\n",
       "Length: 2502, dtype: int64"
      ]
     },
     "execution_count": 107,
     "metadata": {},
     "output_type": "execute_result"
    }
   ],
   "source": [
    "# Irrelevantes (Target = 0)\n",
    "pal_irrelevantes.value_counts()"
   ]
  },
  {
   "cell_type": "code",
   "execution_count": 108,
   "metadata": {},
   "outputs": [
    {
     "data": {
      "text/plain": [
       "de           395\n",
       "a            218\n",
       "em           212\n",
       "do           189\n",
       "e            183\n",
       "            ... \n",
       "voláteis       1\n",
       "fortesos       1\n",
       "51578          1\n",
       "030            1\n",
       "esfriaram      1\n",
       "Length: 1910, dtype: int64"
      ]
     },
     "execution_count": 108,
     "metadata": {},
     "output_type": "execute_result"
    }
   ],
   "source": [
    "# Relevantes (Target = 1)\n",
    "pal_relevantes.value_counts()"
   ]
  },
  {
   "cell_type": "code",
   "execution_count": null,
   "metadata": {},
   "outputs": [],
   "source": []
  },
  {
   "cell_type": "markdown",
   "metadata": {},
   "source": [
    "___\n",
    "### Verificando a performance do Classificador\n",
    "\n",
    "Agora você deve testar o seu classificador com a base de Testes."
   ]
  },
  {
   "cell_type": "code",
   "execution_count": null,
   "metadata": {},
   "outputs": [],
   "source": []
  },
  {
   "cell_type": "code",
   "execution_count": null,
   "metadata": {},
   "outputs": [],
   "source": []
  },
  {
   "cell_type": "code",
   "execution_count": null,
   "metadata": {},
   "outputs": [],
   "source": []
  },
  {
   "cell_type": "markdown",
   "metadata": {},
   "source": [
    "___\n",
    "### Concluindo"
   ]
  },
  {
   "cell_type": "code",
   "execution_count": null,
   "metadata": {},
   "outputs": [],
   "source": []
  },
  {
   "cell_type": "code",
   "execution_count": null,
   "metadata": {},
   "outputs": [],
   "source": []
  },
  {
   "cell_type": "code",
   "execution_count": null,
   "metadata": {},
   "outputs": [],
   "source": []
  },
  {
   "cell_type": "markdown",
   "metadata": {},
   "source": [
    "___\n",
    "### Qualidade do Classificador a partir de novas separações das notícias entre Treinamento e Teste\n",
    "\n",
    "Caso for fazer esse item do Projeto"
   ]
  },
  {
   "cell_type": "code",
   "execution_count": null,
   "metadata": {},
   "outputs": [],
   "source": []
  },
  {
   "cell_type": "code",
   "execution_count": null,
   "metadata": {},
   "outputs": [],
   "source": []
  },
  {
   "cell_type": "code",
   "execution_count": null,
   "metadata": {},
   "outputs": [],
   "source": []
  },
  {
   "attachments": {},
   "cell_type": "markdown",
   "metadata": {},
   "source": [
    "___\n",
    "## Aperfeiçoamento:\n",
    "\n",
    "Trabalhos que conseguirem pelo menos conceito B vão evoluir em conceito dependendo da quantidade de itens avançados:\n",
    "\n",
    "* IMPLEMENTOU outras limpezas e transformações que não afetem a qualidade da informação contida nas notícias. Ex: stemming, lemmatization, stopwords\n",
    "* CONSIDEROU mais de duas caterogias na variável Target e INCREMENTOU a quantidade de notícias, mantendo pelo menos 250 notícias por caterogia (OBRIGATÓRIO PARA TRIOS, sem contar como item avançado)\n",
    "* Para Target com duas categorias: CRIOU pelo menos quatro categorias intermediárias de relevância baseadas na probabilidade: ex.: muito relevante, relevante, neutro, irrelevante, muito irrelevante\n",
    "* EXPLICOU porquê não pode usar o próprio classificador para gerar mais amostras de treinamento\n",
    "* PROPÔS diferentes cenários para Naïve Bayes fora do contexto do projeto (pelo menos dois cenários, exceto aqueles já apresentados em sala pelos professores: por exemplo, filtro de spam)\n",
    "* SUGERIU e EXPLICOU melhorias reais com indicações concretas de como implementar (indicar como fazer e indicar material de pesquisa)\n",
    "* FEZ o item Qualidade do Classificador a partir de novas separações das Notícias entre Treinamento e Teste descrito no enunciado do projeto (OBRIGATÓRIO para conceitos A ou A+)"
   ]
  },
  {
   "cell_type": "markdown",
   "metadata": {},
   "source": [
    "___\n",
    "## Referências"
   ]
  },
  {
   "cell_type": "markdown",
   "metadata": {},
   "source": [
    "[Naive Bayes and Text Classification](https://arxiv.org/pdf/1410.5329.pdf)  **Mais completo**\n",
    "\n",
    "[A practical explanation of a Naive Bayes Classifier](https://monkeylearn.com/blog/practical-explanation-naive-bayes-classifier/) **Mais simples**"
   ]
  },
  {
   "cell_type": "code",
   "execution_count": null,
   "metadata": {},
   "outputs": [],
   "source": []
  }
 ],
 "metadata": {
  "kernelspec": {
   "display_name": "Python 3.10.4 64-bit",
   "language": "python",
   "name": "python3"
  },
  "language_info": {
   "codemirror_mode": {
    "name": "ipython",
    "version": 3
   },
   "file_extension": ".py",
   "mimetype": "text/x-python",
   "name": "python",
   "nbconvert_exporter": "python",
   "pygments_lexer": "ipython3",
   "version": "3.10.4"
  },
  "vscode": {
   "interpreter": {
    "hash": "cdcf8f726040b12d3568ceac60b6ca4b3e4ab6e019e8147e37d5985e50983e9a"
   }
  }
 },
 "nbformat": 4,
 "nbformat_minor": 4
}
