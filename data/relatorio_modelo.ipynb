{
 "cells": [
  {
   "cell_type": "markdown",
   "metadata": {},
   "source": [
    "# Projeto 1 - Ciência dos Dados"
   ]
  },
  {
   "cell_type": "markdown",
   "metadata": {},
   "source": [
    "Nome: Beatriz Borges Zackiewicz\n",
    "\n",
    "Nome: Renato Guedes Passarelli"
   ]
  },
  {
   "cell_type": "markdown",
   "metadata": {},
   "source": [
    "Atenção: Serão permitidos grupos de três pessoas, mas com uma rubrica mais exigente. Grupos deste tamanho precisarão fazer um questionário de avaliação de trabalho em equipe"
   ]
  },
  {
   "cell_type": "markdown",
   "metadata": {},
   "source": [
    "___\n",
    "Carregando algumas bibliotecas:"
   ]
  },
  {
   "cell_type": "code",
   "execution_count": 1,
   "metadata": {},
   "outputs": [
    {
     "name": "stdout",
     "output_type": "stream",
     "text": [
      "Requirement already satisfied: pip in c:\\users\\bebec\\appdata\\local\\programs\\python\\python310\\lib\\site-packages (22.2.2)\n",
      "Requirement already satisfied: setuptools in c:\\users\\bebec\\appdata\\local\\programs\\python\\python310\\lib\\site-packages (65.3.0)\n",
      "Requirement already satisfied: wheel in c:\\users\\bebec\\appdata\\local\\programs\\python\\python310\\lib\\site-packages (0.37.1)\n",
      "Requirement already satisfied: spacy in c:\\users\\bebec\\appdata\\local\\programs\\python\\python310\\lib\\site-packages (3.4.1)\n",
      "Requirement already satisfied: spacy-loggers<2.0.0,>=1.0.0 in c:\\users\\bebec\\appdata\\local\\programs\\python\\python310\\lib\\site-packages (from spacy) (1.0.3)\n",
      "Requirement already satisfied: pydantic!=1.8,!=1.8.1,<1.10.0,>=1.7.4 in c:\\users\\bebec\\appdata\\local\\programs\\python\\python310\\lib\\site-packages (from spacy) (1.9.2)\n",
      "Requirement already satisfied: preshed<3.1.0,>=3.0.2 in c:\\users\\bebec\\appdata\\local\\programs\\python\\python310\\lib\\site-packages (from spacy) (3.0.7)\n",
      "Requirement already satisfied: cymem<2.1.0,>=2.0.2 in c:\\users\\bebec\\appdata\\local\\programs\\python\\python310\\lib\\site-packages (from spacy) (2.0.6)\n",
      "Requirement already satisfied: packaging>=20.0 in c:\\users\\bebec\\appdata\\roaming\\python\\python310\\site-packages (from spacy) (21.3)\n",
      "Requirement already satisfied: tqdm<5.0.0,>=4.38.0 in c:\\users\\bebec\\appdata\\local\\programs\\python\\python310\\lib\\site-packages (from spacy) (4.64.1)\n",
      "Requirement already satisfied: spacy-legacy<3.1.0,>=3.0.9 in c:\\users\\bebec\\appdata\\local\\programs\\python\\python310\\lib\\site-packages (from spacy) (3.0.10)\n",
      "Requirement already satisfied: numpy>=1.15.0 in c:\\users\\bebec\\appdata\\local\\programs\\python\\python310\\lib\\site-packages (from spacy) (1.22.3)\n",
      "Requirement already satisfied: srsly<3.0.0,>=2.4.3 in c:\\users\\bebec\\appdata\\local\\programs\\python\\python310\\lib\\site-packages (from spacy) (2.4.4)\n",
      "Requirement already satisfied: setuptools in c:\\users\\bebec\\appdata\\local\\programs\\python\\python310\\lib\\site-packages (from spacy) (65.3.0)\n",
      "Requirement already satisfied: catalogue<2.1.0,>=2.0.6 in c:\\users\\bebec\\appdata\\local\\programs\\python\\python310\\lib\\site-packages (from spacy) (2.0.8)\n",
      "Requirement already satisfied: typer<0.5.0,>=0.3.0 in c:\\users\\bebec\\appdata\\local\\programs\\python\\python310\\lib\\site-packages (from spacy) (0.4.2)\n",
      "Requirement already satisfied: requests<3.0.0,>=2.13.0 in c:\\users\\bebec\\appdata\\local\\programs\\python\\python310\\lib\\site-packages (from spacy) (2.28.1)\n",
      "Requirement already satisfied: jinja2 in c:\\users\\bebec\\appdata\\roaming\\python\\python310\\site-packages (from spacy) (3.1.1)\n",
      "Requirement already satisfied: murmurhash<1.1.0,>=0.28.0 in c:\\users\\bebec\\appdata\\local\\programs\\python\\python310\\lib\\site-packages (from spacy) (1.0.8)\n",
      "Requirement already satisfied: langcodes<4.0.0,>=3.2.0 in c:\\users\\bebec\\appdata\\local\\programs\\python\\python310\\lib\\site-packages (from spacy) (3.3.0)\n",
      "Requirement already satisfied: pathy>=0.3.5 in c:\\users\\bebec\\appdata\\local\\programs\\python\\python310\\lib\\site-packages (from spacy) (0.6.2)\n",
      "Requirement already satisfied: thinc<8.2.0,>=8.1.0 in c:\\users\\bebec\\appdata\\local\\programs\\python\\python310\\lib\\site-packages (from spacy) (8.1.1)\n",
      "Requirement already satisfied: wasabi<1.1.0,>=0.9.1 in c:\\users\\bebec\\appdata\\local\\programs\\python\\python310\\lib\\site-packages (from spacy) (0.10.1)\n",
      "Requirement already satisfied: pyparsing!=3.0.5,>=2.0.2 in c:\\users\\bebec\\appdata\\roaming\\python\\python310\\site-packages (from packaging>=20.0->spacy) (3.0.8)\n",
      "Requirement already satisfied: smart-open<6.0.0,>=5.2.1 in c:\\users\\bebec\\appdata\\local\\programs\\python\\python310\\lib\\site-packages (from pathy>=0.3.5->spacy) (5.2.1)\n",
      "Requirement already satisfied: typing-extensions>=3.7.4.3 in c:\\users\\bebec\\appdata\\local\\programs\\python\\python310\\lib\\site-packages (from pydantic!=1.8,!=1.8.1,<1.10.0,>=1.7.4->spacy) (4.3.0)\n",
      "Requirement already satisfied: urllib3<1.27,>=1.21.1 in c:\\users\\bebec\\appdata\\local\\programs\\python\\python310\\lib\\site-packages (from requests<3.0.0,>=2.13.0->spacy) (1.26.12)\n",
      "Requirement already satisfied: idna<4,>=2.5 in c:\\users\\bebec\\appdata\\local\\programs\\python\\python310\\lib\\site-packages (from requests<3.0.0,>=2.13.0->spacy) (3.3)\n",
      "Requirement already satisfied: certifi>=2017.4.17 in c:\\users\\bebec\\appdata\\local\\programs\\python\\python310\\lib\\site-packages (from requests<3.0.0,>=2.13.0->spacy) (2022.6.15)\n",
      "Requirement already satisfied: charset-normalizer<3,>=2 in c:\\users\\bebec\\appdata\\local\\programs\\python\\python310\\lib\\site-packages (from requests<3.0.0,>=2.13.0->spacy) (2.1.1)\n",
      "Requirement already satisfied: blis<0.10.0,>=0.7.8 in c:\\users\\bebec\\appdata\\local\\programs\\python\\python310\\lib\\site-packages (from thinc<8.2.0,>=8.1.0->spacy) (0.9.1)\n",
      "Requirement already satisfied: confection<1.0.0,>=0.0.1 in c:\\users\\bebec\\appdata\\local\\programs\\python\\python310\\lib\\site-packages (from thinc<8.2.0,>=8.1.0->spacy) (0.0.1)\n",
      "Requirement already satisfied: colorama in c:\\users\\bebec\\appdata\\roaming\\python\\python310\\site-packages (from tqdm<5.0.0,>=4.38.0->spacy) (0.4.4)\n",
      "Requirement already satisfied: click<9.0.0,>=7.1.1 in c:\\users\\bebec\\appdata\\local\\programs\\python\\python310\\lib\\site-packages (from typer<0.5.0,>=0.3.0->spacy) (8.1.3)\n",
      "Requirement already satisfied: MarkupSafe>=2.0 in c:\\users\\bebec\\appdata\\roaming\\python\\python310\\site-packages (from jinja2->spacy) (2.1.1)\n",
      "Collecting pt-core-news-lg==3.4.0\n",
      "  Downloading https://github.com/explosion/spacy-models/releases/download/pt_core_news_lg-3.4.0/pt_core_news_lg-3.4.0-py3-none-any.whl (568.2 MB)\n",
      "     -------------------------------------- 568.2/568.2 MB 1.4 MB/s eta 0:00:00\n",
      "Requirement already satisfied: spacy<3.5.0,>=3.4.0 in c:\\users\\bebec\\appdata\\local\\programs\\python\\python310\\lib\\site-packages (from pt-core-news-lg==3.4.0) (3.4.1)\n",
      "Requirement already satisfied: langcodes<4.0.0,>=3.2.0 in c:\\users\\bebec\\appdata\\local\\programs\\python\\python310\\lib\\site-packages (from spacy<3.5.0,>=3.4.0->pt-core-news-lg==3.4.0) (3.3.0)\n",
      "Requirement already satisfied: jinja2 in c:\\users\\bebec\\appdata\\roaming\\python\\python310\\site-packages (from spacy<3.5.0,>=3.4.0->pt-core-news-lg==3.4.0) (3.1.1)\n",
      "Requirement already satisfied: preshed<3.1.0,>=3.0.2 in c:\\users\\bebec\\appdata\\local\\programs\\python\\python310\\lib\\site-packages (from spacy<3.5.0,>=3.4.0->pt-core-news-lg==3.4.0) (3.0.7)\n",
      "Requirement already satisfied: pathy>=0.3.5 in c:\\users\\bebec\\appdata\\local\\programs\\python\\python310\\lib\\site-packages (from spacy<3.5.0,>=3.4.0->pt-core-news-lg==3.4.0) (0.6.2)\n",
      "Requirement already satisfied: pydantic!=1.8,!=1.8.1,<1.10.0,>=1.7.4 in c:\\users\\bebec\\appdata\\local\\programs\\python\\python310\\lib\\site-packages (from spacy<3.5.0,>=3.4.0->pt-core-news-lg==3.4.0) (1.9.2)\n",
      "Requirement already satisfied: typer<0.5.0,>=0.3.0 in c:\\users\\bebec\\appdata\\local\\programs\\python\\python310\\lib\\site-packages (from spacy<3.5.0,>=3.4.0->pt-core-news-lg==3.4.0) (0.4.2)\n",
      "Requirement already satisfied: thinc<8.2.0,>=8.1.0 in c:\\users\\bebec\\appdata\\local\\programs\\python\\python310\\lib\\site-packages (from spacy<3.5.0,>=3.4.0->pt-core-news-lg==3.4.0) (8.1.1)\n",
      "Requirement already satisfied: packaging>=20.0 in c:\\users\\bebec\\appdata\\roaming\\python\\python310\\site-packages (from spacy<3.5.0,>=3.4.0->pt-core-news-lg==3.4.0) (21.3)\n",
      "Requirement already satisfied: setuptools in c:\\users\\bebec\\appdata\\local\\programs\\python\\python310\\lib\\site-packages (from spacy<3.5.0,>=3.4.0->pt-core-news-lg==3.4.0) (65.3.0)\n",
      "Requirement already satisfied: srsly<3.0.0,>=2.4.3 in c:\\users\\bebec\\appdata\\local\\programs\\python\\python310\\lib\\site-packages (from spacy<3.5.0,>=3.4.0->pt-core-news-lg==3.4.0) (2.4.4)\n",
      "Requirement already satisfied: cymem<2.1.0,>=2.0.2 in c:\\users\\bebec\\appdata\\local\\programs\\python\\python310\\lib\\site-packages (from spacy<3.5.0,>=3.4.0->pt-core-news-lg==3.4.0) (2.0.6)\n",
      "Requirement already satisfied: wasabi<1.1.0,>=0.9.1 in c:\\users\\bebec\\appdata\\local\\programs\\python\\python310\\lib\\site-packages (from spacy<3.5.0,>=3.4.0->pt-core-news-lg==3.4.0) (0.10.1)\n",
      "Requirement already satisfied: catalogue<2.1.0,>=2.0.6 in c:\\users\\bebec\\appdata\\local\\programs\\python\\python310\\lib\\site-packages (from spacy<3.5.0,>=3.4.0->pt-core-news-lg==3.4.0) (2.0.8)\n",
      "Requirement already satisfied: tqdm<5.0.0,>=4.38.0 in c:\\users\\bebec\\appdata\\local\\programs\\python\\python310\\lib\\site-packages (from spacy<3.5.0,>=3.4.0->pt-core-news-lg==3.4.0) (4.64.1)\n",
      "Requirement already satisfied: requests<3.0.0,>=2.13.0 in c:\\users\\bebec\\appdata\\local\\programs\\python\\python310\\lib\\site-packages (from spacy<3.5.0,>=3.4.0->pt-core-news-lg==3.4.0) (2.28.1)\n",
      "Requirement already satisfied: spacy-loggers<2.0.0,>=1.0.0 in c:\\users\\bebec\\appdata\\local\\programs\\python\\python310\\lib\\site-packages (from spacy<3.5.0,>=3.4.0->pt-core-news-lg==3.4.0) (1.0.3)\n",
      "Requirement already satisfied: spacy-legacy<3.1.0,>=3.0.9 in c:\\users\\bebec\\appdata\\local\\programs\\python\\python310\\lib\\site-packages (from spacy<3.5.0,>=3.4.0->pt-core-news-lg==3.4.0) (3.0.10)\n",
      "Requirement already satisfied: numpy>=1.15.0 in c:\\users\\bebec\\appdata\\local\\programs\\python\\python310\\lib\\site-packages (from spacy<3.5.0,>=3.4.0->pt-core-news-lg==3.4.0) (1.22.3)\n",
      "Requirement already satisfied: murmurhash<1.1.0,>=0.28.0 in c:\\users\\bebec\\appdata\\local\\programs\\python\\python310\\lib\\site-packages (from spacy<3.5.0,>=3.4.0->pt-core-news-lg==3.4.0) (1.0.8)\n",
      "Requirement already satisfied: pyparsing!=3.0.5,>=2.0.2 in c:\\users\\bebec\\appdata\\roaming\\python\\python310\\site-packages (from packaging>=20.0->spacy<3.5.0,>=3.4.0->pt-core-news-lg==3.4.0) (3.0.8)\n",
      "Requirement already satisfied: smart-open<6.0.0,>=5.2.1 in c:\\users\\bebec\\appdata\\local\\programs\\python\\python310\\lib\\site-packages (from pathy>=0.3.5->spacy<3.5.0,>=3.4.0->pt-core-news-lg==3.4.0) (5.2.1)\n",
      "Requirement already satisfied: typing-extensions>=3.7.4.3 in c:\\users\\bebec\\appdata\\local\\programs\\python\\python310\\lib\\site-packages (from pydantic!=1.8,!=1.8.1,<1.10.0,>=1.7.4->spacy<3.5.0,>=3.4.0->pt-core-news-lg==3.4.0) (4.3.0)\n",
      "Requirement already satisfied: charset-normalizer<3,>=2 in c:\\users\\bebec\\appdata\\local\\programs\\python\\python310\\lib\\site-packages (from requests<3.0.0,>=2.13.0->spacy<3.5.0,>=3.4.0->pt-core-news-lg==3.4.0) (2.1.1)\n",
      "Requirement already satisfied: idna<4,>=2.5 in c:\\users\\bebec\\appdata\\local\\programs\\python\\python310\\lib\\site-packages (from requests<3.0.0,>=2.13.0->spacy<3.5.0,>=3.4.0->pt-core-news-lg==3.4.0) (3.3)\n",
      "Requirement already satisfied: certifi>=2017.4.17 in c:\\users\\bebec\\appdata\\local\\programs\\python\\python310\\lib\\site-packages (from requests<3.0.0,>=2.13.0->spacy<3.5.0,>=3.4.0->pt-core-news-lg==3.4.0) (2022.6.15)\n",
      "Requirement already satisfied: urllib3<1.27,>=1.21.1 in c:\\users\\bebec\\appdata\\local\\programs\\python\\python310\\lib\\site-packages (from requests<3.0.0,>=2.13.0->spacy<3.5.0,>=3.4.0->pt-core-news-lg==3.4.0) (1.26.12)\n",
      "Requirement already satisfied: blis<0.10.0,>=0.7.8 in c:\\users\\bebec\\appdata\\local\\programs\\python\\python310\\lib\\site-packages (from thinc<8.2.0,>=8.1.0->spacy<3.5.0,>=3.4.0->pt-core-news-lg==3.4.0) (0.9.1)\n",
      "Requirement already satisfied: confection<1.0.0,>=0.0.1 in c:\\users\\bebec\\appdata\\local\\programs\\python\\python310\\lib\\site-packages (from thinc<8.2.0,>=8.1.0->spacy<3.5.0,>=3.4.0->pt-core-news-lg==3.4.0) (0.0.1)\n",
      "Requirement already satisfied: colorama in c:\\users\\bebec\\appdata\\roaming\\python\\python310\\site-packages (from tqdm<5.0.0,>=4.38.0->spacy<3.5.0,>=3.4.0->pt-core-news-lg==3.4.0) (0.4.4)\n",
      "Requirement already satisfied: click<9.0.0,>=7.1.1 in c:\\users\\bebec\\appdata\\local\\programs\\python\\python310\\lib\\site-packages (from typer<0.5.0,>=0.3.0->spacy<3.5.0,>=3.4.0->pt-core-news-lg==3.4.0) (8.1.3)\n",
      "Requirement already satisfied: MarkupSafe>=2.0 in c:\\users\\bebec\\appdata\\roaming\\python\\python310\\site-packages (from jinja2->spacy<3.5.0,>=3.4.0->pt-core-news-lg==3.4.0) (2.1.1)\n",
      "✔ Download and installation successful\n",
      "You can now load the package via spacy.load('pt_core_news_lg')\n"
     ]
    }
   ],
   "source": [
    "! pip install -U pip setuptools wheel\n",
    "! pip install -U spacy\n",
    "! python -m spacy download pt_core_news_lg\n"
   ]
  },
  {
   "cell_type": "code",
   "execution_count": 2,
   "metadata": {},
   "outputs": [],
   "source": [
    "\n",
    "%matplotlib inline\n",
    "import pandas as pd\n",
    "import matplotlib.pyplot as plt\n",
    "import numpy as np\n",
    "import os"
   ]
  },
  {
   "cell_type": "code",
   "execution_count": 3,
   "metadata": {
    "scrolled": false
   },
   "outputs": [
    {
     "name": "stdout",
     "output_type": "stream",
     "text": [
      "Esperamos trabalhar no diretório\n",
      "c:\\Users\\renat\\OneDrive\\Área de Trabalho\\projeto 1 cdados\\22-2a-cd-p1-grupo_renatogp\\data\n"
     ]
    }
   ],
   "source": [
    "print('Esperamos trabalhar no diretório')\n",
    "print(os.getcwd())"
   ]
  },
  {
   "cell_type": "markdown",
   "metadata": {},
   "source": [
    "Carregando a base de dados com as notícias classificadas manualmente:"
   ]
  },
  {
   "cell_type": "code",
   "execution_count": 4,
   "metadata": {},
   "outputs": [],
   "source": [
    "filename = 'dados.xlsx'"
   ]
  },
  {
   "cell_type": "code",
   "execution_count": 5,
   "metadata": {},
   "outputs": [
    {
     "data": {
      "text/html": [
       "<div>\n",
       "<style scoped>\n",
       "    .dataframe tbody tr th:only-of-type {\n",
       "        vertical-align: middle;\n",
       "    }\n",
       "\n",
       "    .dataframe tbody tr th {\n",
       "        vertical-align: top;\n",
       "    }\n",
       "\n",
       "    .dataframe thead th {\n",
       "        text-align: right;\n",
       "    }\n",
       "</style>\n",
       "<table border=\"1\" class=\"dataframe\">\n",
       "  <thead>\n",
       "    <tr style=\"text-align: right;\">\n",
       "      <th></th>\n",
       "      <th>Categoria</th>\n",
       "      <th>Titulo</th>\n",
       "      <th>PrimeiroParag</th>\n",
       "      <th>Data</th>\n",
       "      <th>Pagina</th>\n",
       "      <th>Target</th>\n",
       "    </tr>\n",
       "  </thead>\n",
       "  <tbody>\n",
       "    <tr>\n",
       "      <th>0</th>\n",
       "      <td>MT Labs</td>\n",
       "      <td>Pix agendado: você foi selecionado para ter a ...</td>\n",
       "      <td>Atenção: se o algoritmo do Google entregou ess...</td>\n",
       "      <td>13/07/2022 - 15:30</td>\n",
       "      <td>51</td>\n",
       "      <td>0</td>\n",
       "    </tr>\n",
       "    <tr>\n",
       "      <th>1</th>\n",
       "      <td>Economia</td>\n",
       "      <td>Gestores ‘de lado’ no câmbio com fim do ciclo ...</td>\n",
       "      <td>Uma corrida eleitoral mais acirrada do que o e...</td>\n",
       "      <td>09/08/2022 - 15:45</td>\n",
       "      <td>19</td>\n",
       "      <td>1</td>\n",
       "    </tr>\n",
       "    <tr>\n",
       "      <th>2</th>\n",
       "      <td>Ibovespa Futuro</td>\n",
       "      <td>Ibovespa futuro abre esta sexta-feira em leve ...</td>\n",
       "      <td>O Ibovespa futuro operava em queda na abertura...</td>\n",
       "      <td>08/07/2022 - 9:08</td>\n",
       "      <td>58</td>\n",
       "      <td>1</td>\n",
       "    </tr>\n",
       "    <tr>\n",
       "      <th>3</th>\n",
       "      <td>Café</td>\n",
       "      <td>Contratos futuros de café arábica ampliam perd...</td>\n",
       "      <td>Os contratos futuros do café arábica na ICE fe...</td>\n",
       "      <td>02/09/2022 - 17:32</td>\n",
       "      <td>1</td>\n",
       "      <td>0</td>\n",
       "    </tr>\n",
       "    <tr>\n",
       "      <th>4</th>\n",
       "      <td>Empresas</td>\n",
       "      <td>Com prejuízo bilionário, Gol vai cortar voos; ...</td>\n",
       "      <td>Após anunciar um prejuízo de R$ 2,85 bilhões n...</td>\n",
       "      <td>30/07/2022 - 15:33</td>\n",
       "      <td>28</td>\n",
       "      <td>1</td>\n",
       "    </tr>\n",
       "  </tbody>\n",
       "</table>\n",
       "</div>"
      ],
      "text/plain": [
       "          Categoria                                             Titulo  \\\n",
       "0           MT Labs  Pix agendado: você foi selecionado para ter a ...   \n",
       "1         Economia   Gestores ‘de lado’ no câmbio com fim do ciclo ...   \n",
       "2  Ibovespa Futuro   Ibovespa futuro abre esta sexta-feira em leve ...   \n",
       "3             Café   Contratos futuros de café arábica ampliam perd...   \n",
       "4         Empresas   Com prejuízo bilionário, Gol vai cortar voos; ...   \n",
       "\n",
       "                                       PrimeiroParag                Data  \\\n",
       "0  Atenção: se o algoritmo do Google entregou ess...  13/07/2022 - 15:30   \n",
       "1  Uma corrida eleitoral mais acirrada do que o e...  09/08/2022 - 15:45   \n",
       "2  O Ibovespa futuro operava em queda na abertura...   08/07/2022 - 9:08   \n",
       "3  Os contratos futuros do café arábica na ICE fe...  02/09/2022 - 17:32   \n",
       "4  Após anunciar um prejuízo de R$ 2,85 bilhões n...  30/07/2022 - 15:33   \n",
       "\n",
       "   Pagina  Target  \n",
       "0      51       0  \n",
       "1      19       1  \n",
       "2      58       1  \n",
       "3       1       0  \n",
       "4      28       1  "
      ]
     },
     "execution_count": 5,
     "metadata": {},
     "output_type": "execute_result"
    }
   ],
   "source": [
    "train = pd.read_excel(filename, sheet_name = 'Treinamento')\n",
    "train.head(5)"
   ]
  },
  {
   "cell_type": "code",
   "execution_count": 6,
   "metadata": {},
   "outputs": [
    {
     "data": {
      "text/html": [
       "<div>\n",
       "<style scoped>\n",
       "    .dataframe tbody tr th:only-of-type {\n",
       "        vertical-align: middle;\n",
       "    }\n",
       "\n",
       "    .dataframe tbody tr th {\n",
       "        vertical-align: top;\n",
       "    }\n",
       "\n",
       "    .dataframe thead th {\n",
       "        text-align: right;\n",
       "    }\n",
       "</style>\n",
       "<table border=\"1\" class=\"dataframe\">\n",
       "  <thead>\n",
       "    <tr style=\"text-align: right;\">\n",
       "      <th></th>\n",
       "      <th>Categoria</th>\n",
       "      <th>Titulo</th>\n",
       "      <th>PrimeiroParag</th>\n",
       "      <th>Data</th>\n",
       "      <th>Pagina</th>\n",
       "      <th>Target</th>\n",
       "    </tr>\n",
       "  </thead>\n",
       "  <tbody>\n",
       "    <tr>\n",
       "      <th>0</th>\n",
       "      <td>Mercados</td>\n",
       "      <td>Em dia sem direção definida, Ibovespa (IBOV) f...</td>\n",
       "      <td>O Ibovespa (IBOV) fechou esta terça-feira (12)...</td>\n",
       "      <td>12/07/2022 - 17:08</td>\n",
       "      <td>53</td>\n",
       "      <td>0</td>\n",
       "    </tr>\n",
       "    <tr>\n",
       "      <th>1</th>\n",
       "      <td>Commodities</td>\n",
       "      <td>Soja e milho se ajustam cautelosamente esperan...</td>\n",
       "      <td>No aguardo da direção que os mercados financei...</td>\n",
       "      <td>05/08/2022 - 8:08</td>\n",
       "      <td>22</td>\n",
       "      <td>1</td>\n",
       "    </tr>\n",
       "    <tr>\n",
       "      <th>2</th>\n",
       "      <td>Economia</td>\n",
       "      <td>Banco Central: Previsão de alta do IPCA em 202...</td>\n",
       "      <td>Os economistas ouvidos pelo Banco Central revi...</td>\n",
       "      <td>18/07/2022 - 8:34</td>\n",
       "      <td>46</td>\n",
       "      <td>0</td>\n",
       "    </tr>\n",
       "    <tr>\n",
       "      <th>3</th>\n",
       "      <td>Eleições 2022</td>\n",
       "      <td>Stuhlberger vê risco de ‘república das bananas...</td>\n",
       "      <td>Sócio da Verde Asset Management, o gestor Luis...</td>\n",
       "      <td>04/08/2022 - 7:19</td>\n",
       "      <td>24</td>\n",
       "      <td>0</td>\n",
       "    </tr>\n",
       "    <tr>\n",
       "      <th>4</th>\n",
       "      <td>Mercados</td>\n",
       "      <td>Dólar reage ao Copom e inflação, mas fica bara...</td>\n",
       "      <td>O dólar comercial sobe 0,5%, perto de R$ 5,14,...</td>\n",
       "      <td>09/08/2022 - 11:43</td>\n",
       "      <td>19</td>\n",
       "      <td>1</td>\n",
       "    </tr>\n",
       "  </tbody>\n",
       "</table>\n",
       "</div>"
      ],
      "text/plain": [
       "        Categoria                                             Titulo  \\\n",
       "0       Mercados   Em dia sem direção definida, Ibovespa (IBOV) f...   \n",
       "1    Commodities   Soja e milho se ajustam cautelosamente esperan...   \n",
       "2       Economia   Banco Central: Previsão de alta do IPCA em 202...   \n",
       "3  Eleições 2022   Stuhlberger vê risco de ‘república das bananas...   \n",
       "4       Mercados   Dólar reage ao Copom e inflação, mas fica bara...   \n",
       "\n",
       "                                       PrimeiroParag                Data  \\\n",
       "0  O Ibovespa (IBOV) fechou esta terça-feira (12)...  12/07/2022 - 17:08   \n",
       "1  No aguardo da direção que os mercados financei...   05/08/2022 - 8:08   \n",
       "2  Os economistas ouvidos pelo Banco Central revi...   18/07/2022 - 8:34   \n",
       "3  Sócio da Verde Asset Management, o gestor Luis...   04/08/2022 - 7:19   \n",
       "4  O dólar comercial sobe 0,5%, perto de R$ 5,14,...  09/08/2022 - 11:43   \n",
       "\n",
       "   Pagina  Target  \n",
       "0      53       0  \n",
       "1      22       1  \n",
       "2      46       0  \n",
       "3      24       0  \n",
       "4      19       1  "
      ]
     },
     "execution_count": 6,
     "metadata": {},
     "output_type": "execute_result"
    }
   ],
   "source": [
    "test = pd.read_excel(filename, sheet_name = 'Teste')\n",
    "test.head(5)"
   ]
  },
  {
   "cell_type": "markdown",
   "metadata": {},
   "source": [
    "___\n",
    "## Classificador automático\n"
   ]
  },
  {
   "cell_type": "markdown",
   "metadata": {},
   "source": [
    "Faça aqui uma descrição do seu assunto e o que considerou como relevante ou não relevante na classificação das notícias (Target).\n",
    "Nosso assunto escolhido é sobre o Dólar. Vamos considerar como relevates os seguintes pontos:\n",
    "-Alta\n",
    "-Baixa\n",
    "-Queda\n",
    "-Crescimento\n",
    "-Mercado\n",
    "-Internacional\n",
    "-Estados Unidos\n",
    "-Instabilidade\n",
    "-Moeda\n",
    "-Valor\n",
    "-Preço\n",
    "-Dinheiro\n",
    "\n",
    "As irrelevantes seriam todas que não se encaixam nos padrões acima\n"
   ]
  },
  {
   "cell_type": "markdown",
   "metadata": {},
   "source": [
    "___\n",
    "### Montando um Classificador Naive-Bayes\n",
    "\n",
    "Considerando apenas as mensagens da planilha Treinamento, ensine  seu classificador."
   ]
  },
  {
   "cell_type": "code",
   "execution_count": 7,
   "metadata": {},
   "outputs": [
    {
     "name": "stdout",
     "output_type": "stream",
     "text": [
      "['a', 'à', 'ao', 'aos', 'aquela', 'aquelas', 'aquele', 'aqueles', 'aquilo', 'as', 'às', 'até', 'com', 'como', 'da', 'das', 'de', 'dela', 'delas', 'dele', 'deles', 'depois', 'do', 'dos', 'e', 'é', 'ela', 'elas', 'ele', 'eles', 'em', 'entre', 'era', 'eram', 'éramos', 'essa', 'essas', 'esse', 'esses', 'esta', 'está', 'estamos', 'estão', 'estar', 'estas', 'estava', 'estavam', 'estávamos', 'este', 'esteja', 'estejam', 'estejamos', 'estes', 'esteve', 'estive', 'estivemos', 'estiver', 'estivera', 'estiveram', 'estivéramos', 'estiverem', 'estivermos', 'estivesse', 'estivessem', 'estivéssemos', 'estou', 'eu', 'foi', 'fomos', 'for', 'fora', 'foram', 'fôramos', 'forem', 'formos', 'fosse', 'fossem', 'fôssemos', 'fui', 'há', 'haja', 'hajam', 'hajamos', 'hão', 'havemos', 'haver', 'hei', 'houve', 'houvemos', 'houver', 'houvera', 'houverá', 'houveram', 'houvéramos', 'houverão', 'houverei', 'houverem', 'houveremos', 'houveria', 'houveriam', 'houveríamos', 'houvermos', 'houvesse', 'houvessem', 'houvéssemos', 'isso', 'isto', 'já', 'lhe', 'lhes', 'mais', 'mas', 'me', 'mesmo', 'meu', 'meus', 'minha', 'minhas', 'muito', 'na', 'não', 'nas', 'nem', 'no', 'nos', 'nós', 'nossa', 'nossas', 'nosso', 'nossos', 'num', 'numa', 'o', 'os', 'ou', 'para', 'pela', 'pelas', 'pelo', 'pelos', 'por', 'qual', 'quando', 'que', 'quem', 'são', 'se', 'seja', 'sejam', 'sejamos', 'sem', 'ser', 'será', 'serão', 'serei', 'seremos', 'seria', 'seriam', 'seríamos', 'seu', 'seus', 'só', 'somos', 'sou', 'sua', 'suas', 'também', 'te', 'tem', 'tém', 'temos', 'tenha', 'tenham', 'tenhamos', 'tenho', 'terá', 'terão', 'terei', 'teremos', 'teria', 'teriam', 'teríamos', 'teu', 'teus', 'teve', 'tinha', 'tinham', 'tínhamos', 'tive', 'tivemos', 'tiver', 'tivera', 'tiveram', 'tivéramos', 'tiverem', 'tivermos', 'tivesse', 'tivessem', 'tivéssemos', 'tu', 'tua', 'tuas', 'um', 'uma', 'você', 'vocês', 'vos', 'o', 'nesta', 'que', 'r', 'após', 'desta']\n"
     ]
    },
    {
     "name": "stderr",
     "output_type": "stream",
     "text": [
      "[nltk_data] Downloading package stopwords to\n",
      "[nltk_data]     C:\\Users\\renat\\AppData\\Roaming\\nltk_data...\n",
      "[nltk_data]   Package stopwords is already up-to-date!\n"
     ]
    }
   ],
   "source": [
    "\n",
    "from IPython.display import display\n",
    "pd.options.display.max_rows = 13\n",
    "import re \n",
    "import nltk\n",
    "nltk.download('stopwords')\n",
    "\n",
    "stopwords = nltk.corpus.stopwords.words('portuguese')\n",
    "\n",
    "\n",
    "cleanwords = ['o','nesta','que','r','após','desta']\n",
    "for i in cleanwords:\n",
    "    stopwords.append(i)\n",
    "\n",
    "punctuation = '[’‘''!-.:?;]'\n",
    "def cleanup(text):\n",
    "    \"\"\"\n",
    "        Função de limpeza muito simples que troca alguns sinais básicos por espaços\n",
    "    \"\"\"\n",
    "    #import string\n",
    "    punctuation = '[’‘''!-.:?;]' # Note que os sinais [] são delimitadores de um conjunto.\n",
    "    pattern = re.compile(punctuation)\n",
    "    text_subbed = re.sub(pattern, '', text)\n",
    "    return text_subbed\n",
    "    \n",
    "print(stopwords)\n"
   ]
  },
  {
   "cell_type": "code",
   "execution_count": 8,
   "metadata": {},
   "outputs": [],
   "source": [
    "import spacy\n",
    "nlp= spacy.load('pt_core_news_lg')\n",
    "from functools import total_ordering\n",
    "titulo = train.Titulo.apply(cleanup) # .apply() aplica a função em cada valor da série\n",
    "\n",
    "texto_e_categorias = train.loc[:,['Titulo','PrimeiroParag','Target']]\n",
    "#print(texto_e_categorias.head(10))\n",
    "\n",
    "#primeiro_paragraf = list(train.PrimeiroParag)\n",
    "#clean_primeiro = []\n",
    "#print(len(primeiro_paragraf))\n",
    "\n",
    "tit = list(train.Titulo)\n",
    "p1o = list(train.PrimeiroParag)\n",
    "trgt = list(train.Target)\n",
    "\n",
    "\n",
    "# ideia2 - juntar todas as palavras de cada target e ver as suas frequências\n",
    "relevante_palavras = []\n",
    "irrelevante_palavras = [] \n",
    "total_vocabulario = []\n",
    "\n",
    "for i in range(len(train.Titulo)):\n",
    "    tit_noticiai =  cleanup(str(tit[i]))\n",
    "    p1o_noticiai =  cleanup(str(p1o[i]))\n",
    "    tipo = trgt[i]\n",
    "    if tipo == 1:\n",
    "        relevante_palavras.append(tit_noticiai.lower().split())\n",
    "        relevante_palavras.append(p1o_noticiai.lower().split())\n",
    "    else: \n",
    "       irrelevante_palavras.append(p1o_noticiai.lower().split())\n",
    "       irrelevante_palavras.append(tit_noticiai.lower().split())\n",
    "\n",
    "    total_vocabulario.append(tit_noticiai.lower().split())\n",
    "    total_vocabulario.append(p1o_noticiai.lower().split())\n",
    "\n",
    "def limpa_stopword(lista):\n",
    "    string = ''\n",
    "    for frase in lista:\n",
    "        for palavra in frase:\n",
    "            if palavra not in stopwords:\n",
    "                string += palavra\n",
    "                string += ' '\n",
    "    return string\n",
    "\n",
    "total_voc_limpo=limpa_stopword(total_vocabulario)\n",
    "relevante_limpo=limpa_stopword(relevante_palavras)\n",
    "irrelevante_limpo=limpa_stopword(irrelevante_palavras)\n",
    "voc_nlp=nlp(total_voc_limpo)\n",
    "ire_nlp=nlp(irrelevante_limpo)\n",
    "rel_nlp=nlp(relevante_limpo)\n",
    "\n",
    "def spacyy(text):\n",
    "    empty_list = []\n",
    "    for token in text:\n",
    "        empty_list.append(token.lemma_)\n",
    "    final_string = ' '.join(map(str,empty_list))\n",
    "    return final_string\n",
    "\n",
    "\n",
    "voc_final=spacyy(voc_nlp)\n",
    "ire_final=spacyy(ire_nlp)\n",
    "rel_final=spacyy(rel_nlp)\n",
    "\n",
    "total_voc_limpo=pd.Series(voc_final.split())\n",
    "relevantes_limpo=pd.Series(rel_final.split())\n",
    "irelevantes_limpo=pd.Series(ire_final.split())"
   ]
  },
  {
   "cell_type": "code",
   "execution_count": 9,
   "metadata": {},
   "outputs": [
    {
     "data": {
      "text/plain": [
       "dólar       174\n",
       "mercado     147\n",
       "ibovespa    127\n",
       "alto         94\n",
       "dia          87\n",
       "queda        79\n",
       "preço        76\n",
       "futuro       75\n",
       "subir        69\n",
       "fechar       62\n",
       "dtype: int64"
      ]
     },
     "execution_count": 9,
     "metadata": {},
     "output_type": "execute_result"
    }
   ],
   "source": [
    "# Frequências:\n",
    "# Vocabulário total ---- procurar o jeito que tira o de/a/do/e/etc. \n",
    "total_voc_limpo.value_counts().head(10)\n"
   ]
  },
  {
   "cell_type": "code",
   "execution_count": 10,
   "metadata": {},
   "outputs": [
    {
     "data": {
      "text/plain": [
       "mercado     63\n",
       "ibovespa    49\n",
       "preço       49\n",
       "dia         42\n",
       "alto        41\n",
       "ano         35\n",
       "lucro       35\n",
       "semana      34\n",
       "ação        34\n",
       "futuro      33\n",
       "dtype: int64"
      ]
     },
     "execution_count": 10,
     "metadata": {},
     "output_type": "execute_result"
    }
   ],
   "source": [
    "# Irrelevantes (Target = 0)\n",
    "irelevantes_limpo.value_counts().head(10)\n"
   ]
  },
  {
   "cell_type": "code",
   "execution_count": 11,
   "metadata": {},
   "outputs": [
    {
     "data": {
      "text/plain": [
       "dólar       172\n",
       "mercado      84\n",
       "ibovespa     78\n",
       "alto         53\n",
       "moeda        48\n",
       "queda        47\n",
       "dia          45\n",
       "fechar       43\n",
       "pregão       43\n",
       "futuro       42\n",
       "dtype: int64"
      ]
     },
     "execution_count": 11,
     "metadata": {},
     "output_type": "execute_result"
    }
   ],
   "source": [
    "# Relevantes (Target = 1)\n",
    "relevantes_limpo.value_counts().head(10)\n"
   ]
  },
  {
   "cell_type": "code",
   "execution_count": 12,
   "metadata": {},
   "outputs": [],
   "source": [
    "# calculo de probabilidades para o suavizador\n",
    "from ast import Break\n",
    "from re import X\n",
    "\n",
    "\n",
    "qtd_relevantes = len(relevantes_limpo) + len(total_voc_limpo) \n",
    "qtd_irrelevantes = len(irelevantes_limpo)  + len(total_voc_limpo) \n",
    "\n",
    "teste = pd.read_excel(filename, sheet_name = 'Teste')\n",
    "tit_test = list(test.Titulo)\n",
    "p1o_test = list(test.PrimeiroParag)\n",
    "mensagens =[]\n",
    "\n",
    "i=0\n",
    "while i < len(tit_test):\n",
    "    tit_te =  cleanup(str(tit_test[i]))\n",
    "    p1o_te =  cleanup(str(p1o_test[i]))\n",
    "    if type(p1o_te) == str: \n",
    "        A = tit_te+' '+p1o_te\n",
    "        mensagens.append(A.lower())\n",
    "    elif type(p1o_test[i]) == float:\n",
    "        mensagens.append(tit_te.lower())\n",
    "    i+=1\n",
    "\n",
    "final_teste=[]\n",
    "stringt = ''\n",
    "\n",
    "for frase in mensagens:\n",
    "    frase = frase.split() \n",
    "    for palavra in frase:\n",
    "        if palavra not in stopwords:\n",
    "            stringt += palavra\n",
    "            stringt += ' '\n",
    "    text=nlp(stringt)\n",
    "    empty_list = []\n",
    "    i=0\n",
    "    while i < len(text):\n",
    "        empty_list.append(text[i].lemma_)\n",
    "        i+=1\n",
    "    final_string = ' '.join(map(str,empty_list))   \n",
    "    final_teste.append(final_string)\n",
    "    stringt = ''\n",
    "    \n",
    "\n",
    "classificação = []\n",
    "\n",
    "i = 0 \n",
    "while i < len(test.Titulo): \n",
    "    P_m_relevante = 1 \n",
    "    P_m_irrelevante = 1 \n",
    "\n",
    "    for m in final_teste:\n",
    "        print(final_teste)\n",
    "        if m in relevantes_limpo:\n",
    "            x = relevantes_limpo.value_counts()[m]\n",
    "            P_m_relevante *= (x+1)/qtd_relevantes \n",
    "        elif m not in relevantes_limpo:\n",
    "            P_m_relevante *= (0 + 1)/qtd_relevantes\n",
    "\n",
    "        if m in irelevantes_limpo:\n",
    "            xi = irelevantes_limpo.value_counts()[m]\n",
    "            P_m_irrelevante *= (xi+1)/qtd_irrelevantes\n",
    "        elif m not in irelevantes_limpo:\n",
    "            P_m_irrelevante *= (0+1)/qtd_irrelevantes \n",
    "\n",
    "    if P_m_relevante > P_m_irrelevante:\n",
    "        classificação.append(1)\n",
    "    elif P_m_irrelevante > P_m_relevante:\n",
    "        classificação.append(0)\n",
    "    \n",
    "    i += 1 \n",
    "\n",
    "  \n",
    "print(classificação)\n",
    "\n",
    "            \n",
    "\n",
    "       \n",
    "\n",
    "\n",
    "\n"
   ]
  },
  {
   "cell_type": "markdown",
   "metadata": {},
   "source": [
    "___\n",
    "### Verificando a performance do Classificador\n",
    "\n",
    "Agora você deve testar o seu classificador com a base de Testes."
   ]
  },
  {
   "cell_type": "code",
   "execution_count": 13,
   "metadata": {},
   "outputs": [
    {
     "name": "stdout",
     "output_type": "stream",
     "text": [
      "240\n"
     ]
    },
    {
     "ename": "IndexError",
     "evalue": "list index out of range",
     "output_type": "error",
     "traceback": [
      "\u001b[1;31m---------------------------------------------------------------------------\u001b[0m",
      "\u001b[1;31mIndexError\u001b[0m                                Traceback (most recent call last)",
      "\u001b[1;32mc:\\Users\\bebec\\OneDrive\\Área de Trabalho\\INSPER\\CDADOS\\CD22-2\\projeto01\\22-2a-cd-p1-grupo_renatogp\\data\\relatorio_modelo.ipynb Célula: 22\u001b[0m in \u001b[0;36m<cell line: 2>\u001b[1;34m()\u001b[0m\n\u001b[0;32m      <a href='vscode-notebook-cell:/c%3A/Users/bebec/OneDrive/%C3%81rea%20de%20Trabalho/INSPER/CDADOS/CD22-2/projeto01/22-2a-cd-p1-grupo_renatogp/data/relatorio_modelo.ipynb#X30sZmlsZQ%3D%3D?line=0'>1</a>\u001b[0m \u001b[39mprint\u001b[39m(\u001b[39mlen\u001b[39m(final_teste))\n\u001b[1;32m----> <a href='vscode-notebook-cell:/c%3A/Users/bebec/OneDrive/%C3%81rea%20de%20Trabalho/INSPER/CDADOS/CD22-2/projeto01/22-2a-cd-p1-grupo_renatogp/data/relatorio_modelo.ipynb#X30sZmlsZQ%3D%3D?line=1'>2</a>\u001b[0m \u001b[39mprint\u001b[39m(final_teste[\u001b[39m240\u001b[39;49m])\n\u001b[0;32m      <a href='vscode-notebook-cell:/c%3A/Users/bebec/OneDrive/%C3%81rea%20de%20Trabalho/INSPER/CDADOS/CD22-2/projeto01/22-2a-cd-p1-grupo_renatogp/data/relatorio_modelo.ipynb#X30sZmlsZQ%3D%3D?line=2'>3</a>\u001b[0m \u001b[39mprint\u001b[39m(\u001b[39mlen\u001b[39m(teste))\n",
      "\u001b[1;31mIndexError\u001b[0m: list index out of range"
     ]
    }
   ],
   "source": [
    "print(len(final_teste))\n",
    "print(final_teste[240])\n",
    "print(len(teste))"
   ]
  },
  {
   "cell_type": "code",
   "execution_count": null,
   "metadata": {},
   "outputs": [],
   "source": []
  },
  {
   "cell_type": "code",
   "execution_count": null,
   "metadata": {},
   "outputs": [],
   "source": []
  },
  {
   "cell_type": "markdown",
   "metadata": {},
   "source": [
    "___\n",
    "### Concluindo"
   ]
  },
  {
   "cell_type": "code",
   "execution_count": null,
   "metadata": {},
   "outputs": [],
   "source": []
  },
  {
   "cell_type": "code",
   "execution_count": null,
   "metadata": {},
   "outputs": [],
   "source": []
  },
  {
   "cell_type": "code",
   "execution_count": null,
   "metadata": {},
   "outputs": [],
   "source": []
  },
  {
   "cell_type": "markdown",
   "metadata": {},
   "source": [
    "___\n",
    "### Qualidade do Classificador a partir de novas separações das notícias entre Treinamento e Teste\n",
    "\n",
    "Caso for fazer esse item do Projeto"
   ]
  },
  {
   "cell_type": "code",
   "execution_count": null,
   "metadata": {},
   "outputs": [],
   "source": []
  },
  {
   "cell_type": "code",
   "execution_count": null,
   "metadata": {},
   "outputs": [],
   "source": []
  },
  {
   "cell_type": "code",
   "execution_count": null,
   "metadata": {},
   "outputs": [],
   "source": []
  },
  {
   "attachments": {},
   "cell_type": "markdown",
   "metadata": {},
   "source": [
    "___\n",
    "## Aperfeiçoamento:\n",
    "\n",
    "Trabalhos que conseguirem pelo menos conceito B vão evoluir em conceito dependendo da quantidade de itens avançados:\n",
    "\n",
    "* IMPLEMENTOU outras limpezas e transformações que não afetem a qualidade da informação contida nas notícias. Ex: stemming, lemmatization, stopwords\n",
    "* CONSIDEROU mais de duas caterogias na variável Target e INCREMENTOU a quantidade de notícias, mantendo pelo menos 250 notícias por caterogia (OBRIGATÓRIO PARA TRIOS, sem contar como item avançado)\n",
    "* Para Target com duas categorias: CRIOU pelo menos quatro categorias intermediárias de relevância baseadas na probabilidade: ex.: muito relevante, relevante, neutro, irrelevante, muito irrelevante\n",
    "* EXPLICOU porquê não pode usar o próprio classificador para gerar mais amostras de treinamento\n",
    "* PROPÔS diferentes cenários para Naïve Bayes fora do contexto do projeto (pelo menos dois cenários, exceto aqueles já apresentados em sala pelos professores: por exemplo, filtro de spam)\n",
    "* SUGERIU e EXPLICOU melhorias reais com indicações concretas de como implementar (indicar como fazer e indicar material de pesquisa)\n",
    "* FEZ o item Qualidade do Classificador a partir de novas separações das Notícias entre Treinamento e Teste descrito no enunciado do projeto (OBRIGATÓRIO para conceitos A ou A+)"
   ]
  },
  {
   "cell_type": "markdown",
   "metadata": {},
   "source": [
    "___\n",
    "## Referências"
   ]
  },
  {
   "cell_type": "markdown",
   "metadata": {},
   "source": [
    "[Naive Bayes and Text Classification](https://arxiv.org/pdf/1410.5329.pdf)  **Mais completo**\n",
    "\n",
    "[A practical explanation of a Naive Bayes Classifier](https://monkeylearn.com/blog/practical-explanation-naive-bayes-classifier/) **Mais simples**"
   ]
  },
  {
   "cell_type": "code",
   "execution_count": null,
   "metadata": {},
   "outputs": [],
   "source": []
  }
 ],
 "metadata": {
  "kernelspec": {
   "display_name": "Python 3.10.4 64-bit",
   "language": "python",
   "name": "python3"
  },
  "language_info": {
   "codemirror_mode": {
    "name": "ipython",
    "version": 3
   },
   "file_extension": ".py",
   "mimetype": "text/x-python",
   "name": "python",
   "nbconvert_exporter": "python",
   "pygments_lexer": "ipython3",
   "version": "3.10.4"
  },
  "vscode": {
   "interpreter": {
    "hash": "cdcf8f726040b12d3568ceac60b6ca4b3e4ab6e019e8147e37d5985e50983e9a"
   }
  }
 },
 "nbformat": 4,
 "nbformat_minor": 4
}
