{
 "cells": [
  {
   "cell_type": "markdown",
   "metadata": {},
   "source": [
    "# Projeto 1 - Ciência dos Dados"
   ]
  },
  {
   "cell_type": "markdown",
   "metadata": {},
   "source": [
    "Nome: Beatriz Borges Zackiewicz\n",
    "\n",
    "Nome: Renato Guedes Passarelli"
   ]
  },
  {
   "cell_type": "markdown",
   "metadata": {},
   "source": [
    "Atenção: Serão permitidos grupos de três pessoas, mas com uma rubrica mais exigente. Grupos deste tamanho precisarão fazer um questionário de avaliação de trabalho em equipe"
   ]
  },
  {
   "cell_type": "markdown",
   "metadata": {},
   "source": [
    "___\n",
    "Carregando algumas bibliotecas:"
   ]
  },
  {
   "cell_type": "code",
   "execution_count": 2,
   "metadata": {},
   "outputs": [],
   "source": [
    "%matplotlib inline\n",
    "import pandas as pd\n",
    "import matplotlib.pyplot as plt\n",
    "import numpy as np\n",
    "import os"
   ]
  },
  {
   "cell_type": "code",
   "execution_count": 3,
   "metadata": {
    "scrolled": false
   },
   "outputs": [
    {
     "name": "stdout",
     "output_type": "stream",
     "text": [
      "Esperamos trabalhar no diretório\n",
      "c:\\Users\\bebec\\OneDrive\\Área de Trabalho\\INSPER\\CDADOS\\CD22-2\\projeto01\\22-2a-cd-p1-grupo_renatogp\\data\n"
     ]
    }
   ],
   "source": [
    "print('Esperamos trabalhar no diretório')\n",
    "print(os.getcwd())"
   ]
  },
  {
   "cell_type": "markdown",
   "metadata": {},
   "source": [
    "Carregando a base de dados com as notícias classificadas manualmente:"
   ]
  },
  {
   "cell_type": "code",
   "execution_count": 4,
   "metadata": {},
   "outputs": [],
   "source": [
    "filename = 'dados.xlsx'"
   ]
  },
  {
   "cell_type": "code",
   "execution_count": 5,
   "metadata": {},
   "outputs": [
    {
     "data": {
      "text/html": [
       "<div>\n",
       "<style scoped>\n",
       "    .dataframe tbody tr th:only-of-type {\n",
       "        vertical-align: middle;\n",
       "    }\n",
       "\n",
       "    .dataframe tbody tr th {\n",
       "        vertical-align: top;\n",
       "    }\n",
       "\n",
       "    .dataframe thead th {\n",
       "        text-align: right;\n",
       "    }\n",
       "</style>\n",
       "<table border=\"1\" class=\"dataframe\">\n",
       "  <thead>\n",
       "    <tr style=\"text-align: right;\">\n",
       "      <th></th>\n",
       "      <th>Categoria</th>\n",
       "      <th>Titulo</th>\n",
       "      <th>PrimeiroParag</th>\n",
       "      <th>Data</th>\n",
       "      <th>Pagina</th>\n",
       "      <th>Target</th>\n",
       "    </tr>\n",
       "  </thead>\n",
       "  <tbody>\n",
       "    <tr>\n",
       "      <th>0</th>\n",
       "      <td>MT Labs</td>\n",
       "      <td>Pix agendado: você foi selecionado para ter a ...</td>\n",
       "      <td>Atenção: se o algoritmo do Google entregou ess...</td>\n",
       "      <td>13/07/2022 - 15:30</td>\n",
       "      <td>51</td>\n",
       "      <td>0</td>\n",
       "    </tr>\n",
       "    <tr>\n",
       "      <th>1</th>\n",
       "      <td>Economia</td>\n",
       "      <td>Gestores ‘de lado’ no câmbio com fim do ciclo ...</td>\n",
       "      <td>Uma corrida eleitoral mais acirrada do que o e...</td>\n",
       "      <td>09/08/2022 - 15:45</td>\n",
       "      <td>19</td>\n",
       "      <td>1</td>\n",
       "    </tr>\n",
       "    <tr>\n",
       "      <th>2</th>\n",
       "      <td>Ibovespa Futuro</td>\n",
       "      <td>Ibovespa futuro abre esta sexta-feira em leve ...</td>\n",
       "      <td>O Ibovespa futuro operava em queda na abertura...</td>\n",
       "      <td>08/07/2022 - 9:08</td>\n",
       "      <td>58</td>\n",
       "      <td>1</td>\n",
       "    </tr>\n",
       "    <tr>\n",
       "      <th>3</th>\n",
       "      <td>Café</td>\n",
       "      <td>Contratos futuros de café arábica ampliam perd...</td>\n",
       "      <td>Os contratos futuros do café arábica na ICE fe...</td>\n",
       "      <td>02/09/2022 - 17:32</td>\n",
       "      <td>1</td>\n",
       "      <td>0</td>\n",
       "    </tr>\n",
       "    <tr>\n",
       "      <th>4</th>\n",
       "      <td>Empresas</td>\n",
       "      <td>Com prejuízo bilionário, Gol vai cortar voos; ...</td>\n",
       "      <td>Após anunciar um prejuízo de R$ 2,85 bilhões n...</td>\n",
       "      <td>30/07/2022 - 15:33</td>\n",
       "      <td>28</td>\n",
       "      <td>1</td>\n",
       "    </tr>\n",
       "  </tbody>\n",
       "</table>\n",
       "</div>"
      ],
      "text/plain": [
       "          Categoria                                             Titulo  \\\n",
       "0           MT Labs  Pix agendado: você foi selecionado para ter a ...   \n",
       "1         Economia   Gestores ‘de lado’ no câmbio com fim do ciclo ...   \n",
       "2  Ibovespa Futuro   Ibovespa futuro abre esta sexta-feira em leve ...   \n",
       "3             Café   Contratos futuros de café arábica ampliam perd...   \n",
       "4         Empresas   Com prejuízo bilionário, Gol vai cortar voos; ...   \n",
       "\n",
       "                                       PrimeiroParag                Data  \\\n",
       "0  Atenção: se o algoritmo do Google entregou ess...  13/07/2022 - 15:30   \n",
       "1  Uma corrida eleitoral mais acirrada do que o e...  09/08/2022 - 15:45   \n",
       "2  O Ibovespa futuro operava em queda na abertura...   08/07/2022 - 9:08   \n",
       "3  Os contratos futuros do café arábica na ICE fe...  02/09/2022 - 17:32   \n",
       "4  Após anunciar um prejuízo de R$ 2,85 bilhões n...  30/07/2022 - 15:33   \n",
       "\n",
       "   Pagina  Target  \n",
       "0      51       0  \n",
       "1      19       1  \n",
       "2      58       1  \n",
       "3       1       0  \n",
       "4      28       1  "
      ]
     },
     "execution_count": 5,
     "metadata": {},
     "output_type": "execute_result"
    }
   ],
   "source": [
    "train = pd.read_excel(filename, sheet_name = 'Treinamento')\n",
    "train.head(5)"
   ]
  },
  {
   "cell_type": "code",
   "execution_count": 6,
   "metadata": {},
   "outputs": [
    {
     "data": {
      "text/html": [
       "<div>\n",
       "<style scoped>\n",
       "    .dataframe tbody tr th:only-of-type {\n",
       "        vertical-align: middle;\n",
       "    }\n",
       "\n",
       "    .dataframe tbody tr th {\n",
       "        vertical-align: top;\n",
       "    }\n",
       "\n",
       "    .dataframe thead th {\n",
       "        text-align: right;\n",
       "    }\n",
       "</style>\n",
       "<table border=\"1\" class=\"dataframe\">\n",
       "  <thead>\n",
       "    <tr style=\"text-align: right;\">\n",
       "      <th></th>\n",
       "      <th>Categoria</th>\n",
       "      <th>Titulo</th>\n",
       "      <th>PrimeiroParag</th>\n",
       "      <th>Data</th>\n",
       "      <th>Pagina</th>\n",
       "      <th>Target</th>\n",
       "    </tr>\n",
       "  </thead>\n",
       "  <tbody>\n",
       "    <tr>\n",
       "      <th>0</th>\n",
       "      <td>Mercados</td>\n",
       "      <td>Em dia sem direção definida, Ibovespa (IBOV) f...</td>\n",
       "      <td>O Ibovespa (IBOV) fechou esta terça-feira (12)...</td>\n",
       "      <td>12/07/2022 - 17:08</td>\n",
       "      <td>53</td>\n",
       "      <td>0</td>\n",
       "    </tr>\n",
       "    <tr>\n",
       "      <th>1</th>\n",
       "      <td>Commodities</td>\n",
       "      <td>Soja e milho se ajustam cautelosamente esperan...</td>\n",
       "      <td>No aguardo da direção que os mercados financei...</td>\n",
       "      <td>05/08/2022 - 8:08</td>\n",
       "      <td>22</td>\n",
       "      <td>1</td>\n",
       "    </tr>\n",
       "    <tr>\n",
       "      <th>2</th>\n",
       "      <td>Economia</td>\n",
       "      <td>Banco Central: Previsão de alta do IPCA em 202...</td>\n",
       "      <td>Os economistas ouvidos pelo Banco Central revi...</td>\n",
       "      <td>18/07/2022 - 8:34</td>\n",
       "      <td>46</td>\n",
       "      <td>0</td>\n",
       "    </tr>\n",
       "    <tr>\n",
       "      <th>3</th>\n",
       "      <td>Eleições 2022</td>\n",
       "      <td>Stuhlberger vê risco de ‘república das bananas...</td>\n",
       "      <td>Sócio da Verde Asset Management, o gestor Luis...</td>\n",
       "      <td>04/08/2022 - 7:19</td>\n",
       "      <td>24</td>\n",
       "      <td>0</td>\n",
       "    </tr>\n",
       "    <tr>\n",
       "      <th>4</th>\n",
       "      <td>Mercados</td>\n",
       "      <td>Dólar reage ao Copom e inflação, mas fica bara...</td>\n",
       "      <td>O dólar comercial sobe 0,5%, perto de R$ 5,14,...</td>\n",
       "      <td>09/08/2022 - 11:43</td>\n",
       "      <td>19</td>\n",
       "      <td>1</td>\n",
       "    </tr>\n",
       "  </tbody>\n",
       "</table>\n",
       "</div>"
      ],
      "text/plain": [
       "        Categoria                                             Titulo  \\\n",
       "0       Mercados   Em dia sem direção definida, Ibovespa (IBOV) f...   \n",
       "1    Commodities   Soja e milho se ajustam cautelosamente esperan...   \n",
       "2       Economia   Banco Central: Previsão de alta do IPCA em 202...   \n",
       "3  Eleições 2022   Stuhlberger vê risco de ‘república das bananas...   \n",
       "4       Mercados   Dólar reage ao Copom e inflação, mas fica bara...   \n",
       "\n",
       "                                       PrimeiroParag                Data  \\\n",
       "0  O Ibovespa (IBOV) fechou esta terça-feira (12)...  12/07/2022 - 17:08   \n",
       "1  No aguardo da direção que os mercados financei...   05/08/2022 - 8:08   \n",
       "2  Os economistas ouvidos pelo Banco Central revi...   18/07/2022 - 8:34   \n",
       "3  Sócio da Verde Asset Management, o gestor Luis...   04/08/2022 - 7:19   \n",
       "4  O dólar comercial sobe 0,5%, perto de R$ 5,14,...  09/08/2022 - 11:43   \n",
       "\n",
       "   Pagina  Target  \n",
       "0      53       0  \n",
       "1      22       1  \n",
       "2      46       0  \n",
       "3      24       0  \n",
       "4      19       1  "
      ]
     },
     "execution_count": 6,
     "metadata": {},
     "output_type": "execute_result"
    }
   ],
   "source": [
    "test = pd.read_excel(filename, sheet_name = 'Teste')\n",
    "test.head(5)"
   ]
  },
  {
   "cell_type": "markdown",
   "metadata": {},
   "source": [
    "___\n",
    "## Classificador automático\n"
   ]
  },
  {
   "cell_type": "markdown",
   "metadata": {},
   "source": [
    "Faça aqui uma descrição do seu assunto e o que considerou como relevante ou não relevante na classificação das notícias (Target).\n",
    "Nosso assunto escolhido é sobre o Dólar. Vamos considerar como relevates os seguintes pontos:\n",
    "-Alta\n",
    "-Baixa\n",
    "-Queda\n",
    "-Crescimento\n",
    "-Mercado\n",
    "-Internacional\n",
    "-Estados Unidos\n",
    "-Instabilidade\n",
    "-Moeda\n",
    "-Valor\n",
    "-Preço\n",
    "-Dinheiro\n",
    "\n",
    "As irrelevantes seriam todas que não se encaixam nos padrões acima\n"
   ]
  },
  {
   "cell_type": "markdown",
   "metadata": {},
   "source": [
    "___\n",
    "### Montando um Classificador Naive-Bayes\n",
    "\n",
    "Considerando apenas as mensagens da planilha Treinamento, ensine  seu classificador."
   ]
  },
  {
   "cell_type": "code",
   "execution_count": 16,
   "metadata": {},
   "outputs": [],
   "source": [
    "\n",
    "from IPython.display import display\n",
    "pd.options.display.max_rows = 13\n",
    "import re \n",
    "\n",
    "\n",
    "def cleanup(text):\n",
    "    \"\"\"\n",
    "        Função de limpeza muito simples que troca alguns sinais básicos por espaços\n",
    "    \"\"\"\n",
    "    #import string\n",
    "    punctuation = '[''!-.:?;]' # Note que os sinais [] são delimitadores de um conjunto.\n",
    "    pattern = re.compile(punctuation)\n",
    "    text_subbed = re.sub(pattern, '', text)\n",
    "    return text_subbed\n",
    "\n"
   ]
  },
  {
   "cell_type": "code",
   "execution_count": 24,
   "metadata": {},
   "outputs": [],
   "source": [
    "from functools import total_ordering\n",
    "\n",
    "\n",
    "titulo = train.Titulo.apply(cleanup) # .apply() aplica a função em cada valor da série\n",
    "\n",
    "texto_e_categorias = train.loc[:,['Titulo','PrimeiroParag','Target']]\n",
    "#print(texto_e_categorias.head(10))\n",
    "\n",
    "#primeiro_paragraf = list(train.PrimeiroParag)\n",
    "#clean_primeiro = []\n",
    "#print(len(primeiro_paragraf))\n",
    "\n",
    "tit = list(train.Titulo)\n",
    "p1o = list(train.PrimeiroParag)\n",
    "trgt = list(train.Target)\n",
    "\n",
    "\n",
    "# ideia2 - juntar todas as palavras de cada target e ver as suas frequências\n",
    "relevante_palavras = ''\n",
    "irrelevante_palavras = '' \n",
    "total_vocabulario = ''\n",
    "\n",
    "for i in range(len(train.Titulo)):\n",
    "    tit_noticiai =  cleanup(str(tit[i]))\n",
    "    p1o_noticiai =  cleanup(str(p1o[i]))\n",
    "\n",
    "    tipo = trgt[i]\n",
    "    if tipo == 1:\n",
    "        relevante_palavras += tit_noticiai\n",
    "        relevante_palavras += p1o_noticiai\n",
    "    else: \n",
    "       irrelevante_palavras += p1o_noticiai\n",
    "       irrelevante_palavras += tit_noticiai\n",
    "\n",
    "    total_vocabulario += (tit_noticiai + p1o_noticiai)\n",
    "\n",
    "total_vocabulario = pd.Series(total_vocabulario.split())\n",
    "pal_relevantes = pd.Series(relevante_palavras.split())\n",
    "pal_irrelevantes = pd.Series(irrelevante_palavras.split())\n",
    "\n"
   ]
  },
  {
   "cell_type": "code",
   "execution_count": 22,
   "metadata": {},
   "outputs": [
    {
     "data": {
      "text/plain": [
       "de                863\n",
       "a                 411\n",
       "do                392\n",
       "e                 382\n",
       "em                380\n",
       "                 ... \n",
       "controlam           1\n",
       "apertam             1\n",
       "agressivamente      1\n",
       "justamente          1\n",
       "esfriaram           1\n",
       "Length: 3747, dtype: int64"
      ]
     },
     "execution_count": 22,
     "metadata": {},
     "output_type": "execute_result"
    }
   ],
   "source": [
    "# Frequências:\n",
    "# Vocabulário total ---- procurar o jeito que tira o de/a/do/e/etc. \n",
    "total_vocabulario.value_counts()"
   ]
  },
  {
   "cell_type": "code",
   "execution_count": 23,
   "metadata": {},
   "outputs": [
    {
     "data": {
      "text/plain": [
       "de           470\n",
       "do           203\n",
       "a            202\n",
       "e            199\n",
       "o            179\n",
       "            ... \n",
       "centrais       1\n",
       "bancos         1\n",
       "controlam      1\n",
       "geração        1\n",
       "pouco          1\n",
       "Length: 2600, dtype: int64"
      ]
     },
     "execution_count": 23,
     "metadata": {},
     "output_type": "execute_result"
    }
   ],
   "source": [
    "# Irrelevantes (Target = 0)\n",
    "pal_irrelevantes.value_counts()"
   ]
  },
  {
   "cell_type": "code",
   "execution_count": 20,
   "metadata": {},
   "outputs": [
    {
     "data": {
      "text/plain": [
       "Gestores ‘de lado’ no câmbio com fim do ciclo e eleição apertadaUma corrida eleitoral mais acirrada do que o esperado e o possível fim do aperto da taxa de juros no Brasil estão fazendo com que os multimercados evitem grandes posições no realIbovespa futuro abre esta sextafeira em leve queda veja o que move o índiceO Ibovespa futuro operava em queda na abertura do pregão desta sextafeira 9 Às 9h05 o índice desvalorizava 012 cotado a 102196 pontosCom prejuízo bilionário Gol vai cortar voos preço das passagens deve aumentarApós anunciar um prejuízo de R 285 bilhões no segundo trimestre a Gol prevê cortar em cerca de 10 a oferta de voos para agosto e setembro em meio à escalada de custos decorrente da alta do querosene de aviação e à desvalorização do realDólar fecha em alta em dia volátil com ata do Fed e eleição no radarO dólar à vista fechou em alta frente ao real perto de R 517 em pregão de forte volatilidade O movimento da moeda foi calibrado pela ata da última reunião do Federal Reserve Fed o banco central norte americano e eleiçãoIbovespa futuro cai com NY em dia de agenda esvaziada dólar avançaO Ibovespa futuro recuava em meio ao sinal negativo vindo dos mercados internacionais nesta sextafeira 19 Não há destaques na agenda econômicaPreciso alertar meus clientes sobre risco de ruptura de Bolsonaro diz gestor sobre possível “3º turno” das eleiçõesAs eleições de 2022 para a presidência da República podem ser mais disputadas que as pesquisas levam a crer e provocar solavancos ainda maiores nos mercados alerta o gestor Cláudio Coppola do RC FIM em entrevista ao podcast Market Makers produzido por Thiago Salomão e Renato Santiago em parceria com a Empiricus controladora do Money TimesReceitas da Dell desaceleram por dólar forte e lockdowns na ChinaA Dell teve o crescimento de receita mais lento em seis trimestres com a alta do dólar e surtos de Covid19 na China compensando um salto em seus negócios para empresasIbovespa hoje Ibovespa testa dinâmica própria em meio à cautela no exteriorO Ibovespa tem conseguido se desvencilhar do ambiente externo mais negativo vivendo sua dinâmica própria em meio ao forte fluxo estrangeiro Ontem o principal índice acionário da B3 saltou mais de 2 apesar dos mercados internacionais ainda pressionadosInflação anual ao consumidor nos EUA sobe abaixo do esperado em julho futuros de NY aceleraram altaO índice de preços ao consumidor nos Estados Unidos CPI na sigla em inglês ficou estável em julho após alta de 13 em junho Com isso na base anual a inflação segue com acumulado de 85 ficando abaixo das estimativas do mercado de altas de 02 e de 87Inflação no Brasil é diferente do restante do mundo entendaA inflação que afeta o Brasil não é a mesma da Europa ou dos Estados Unidos – por mais que os efeitos na economia sejam muitos parecidosDólar fecha abaixo de R 530 e tem 1ª queda semanal desde maioO dólar caiu acentuadamente nesta sextafeira fechando com folga abaixo dos 530 reais e interrompendo uma série de vários ganhos semanais consecutivos em movimento de ajuste técnico embalado por algum alívio nos temores internacionais de recessãoSuzano SUZB3 e Klabin KLBN11 estão entre as maiores quedas do dia com baixa do dólarAs ações da Suzano SUZB3 e da Klabin KLBN11 estão entre as maiores queda do Ibovespa IBOV nesta quartafeira 10 acompanhando a baixa de 16 do dólar a R 504 por volta do meiodiaIbovespa hoje Mercados reagem à decisão do Copom em dia de exterior positivoO Ibovespa deve abrir hoje dividido entre o sinal positivo vindo dos mercados internacionais e a reação dos ativos domésticos ao aumento da taxa Selic para 1375 ontem A porta aberta deixada pelo Comitê de Política Monetária Copom para a próxima reunião tende a influenciar os negócios com dólar e juros futuros respingando na bolsaDólar recua a R 503 em dia volátil atento ao exteriorO dólar à vista é negociado em queda frente ao real renovando mínimas abaixo de R 505 Porém a moeda norteamericana exibiu forte volatilidade nas primeiras horas de negócios Ibovespa hoje Petrobras rouba a cena em dia de agenda cheia no exteriorA Petrobras é o destaque do dia e deve embalar o Ibovespa neste último pregão de julho Os mercados internacionais amanheceram de bom humor nesta sextafeira 29 com a temporada de balanços alimentando o apetite por risco e esfriando a narrativa sobre recessãoWall St sobe em início de semana recheada de balanços corporativosOs principais índices de Wall Street abriram em alta nesta segundafeira com investidores se preparando para a reunião de política monetária do Federal Reserve e para a divulgação de resultados de algumas das maiores empresas dos Estados Unidos nesta semana buscando avaliar o impacto do dólar forte e da inflação elevadaUma recessão oficial nos EUA depende destes seis indicadoresOs árbitros oficiais das recessões nos EUA analisam seis indicadores mensais para determinar se o país entrou de fato em uma recessão – e esses números ainda não deixam claro uma contraçãoReal tem pior desempenho semanal entre pares por medo global de recessão e fiscal no BrasilO dólar fechou em queda nesta sextafeira mas terminou o dia acima de 540 reais com investidores repercutindo o alívio global no rali da divisa norteamericana mas ainda cautelosos sobre as perspectivas para a economia mundial e temas fiscais no Brasil Na semana o dólar subiu deixando a divisa brasileira na lanterna entre pares emergentes mais correlatosCommodities agrícolas surfam na amenizada do risco dada inflação menor nos EUATodos os derivativos agrícolas passaram a escalar altas com mais intensidade a partir da divulgação da inflação mais acomodada nos Estados Unidos de 91 para 85 anualizada e com tendência de o Federal Reserve Fed aliviar a mão dos juros para 50 e não mais 75 pontosbaseIbovespa futuro opera em queda com aversão ao risco renovada nesta segunda 29 dólar sobeO dólar abria o pregão desta segundafeira 29 em alta Por volta das 9h00 a moeda avançava 055 a R 50878Ibovespa É preciso permanecer independente das quedas do mercadoNos últimos meses as perdas das ações no Brasil e no exterior têm tomado conta dos noticiários O momento é delicado e você provavelmente já sabe os motivos inflação cravando níveis históricos nos países desenvolvidos e elevada nos emergentes escalada dos juros e os receios da desaceleração do crescimento econômico globalDow Jones sobe em início de semana repleta de balanços corporativos Microsoft pressiona NasdaqO índice Dow Jones subia nesta segundafeira com investidores se preparando para a reunião de política monetária do Federal Reserve e para a divulgação de resultados de algumas das maiores empresas dos Estados Unidos nesta semana buscando avaliar o impacto do dólar forte e da inflação elevadaDólar à vista fecha em queda de 145 a R 53443 na vendaO dólar caiu acentuadamente contra o real nesta quintafeira interrompendo rali recente diante de recuperação no apetite por risco no mundo embora ameaças de recessão nas principais economias e tensões fiscais locais tenham seguido no radarVeja como o dólar deve reagir à entrevista de Lula no JNO expresidente Luiz Inácio Lula da Silva volta hoje a se apresentar como candidato à eleição desta vez na bancada do Jornal Nacional Ele participará da sabatina com presidenciáveis uma tradição da TV Globo em eleiçõesDólar fecha em alta em dia volátil com exterior e PtaxO dólar à vista fechou em alta de 15 frente ao real cotado bem perto dos R 520 para venda em dia de forte volatilidade acompanhando a aversão ao risco no mercado global e ajustes domésticosDólar sobe e Ibovespa futuro cai na abertura desta quinta pós Fed veja o que move os mercadosO dólar operava em alta na abertura do pregão desta quintafeira 28 Por volta das 9h00 a moeda avançava 036 a R 52620 Bitcoin BTC A tese de proteção pode começar a valer com Inflação nos EUA em 91O índice de preços ao consumidor nos Estados Unidos CPI na sigla em inglês voltou a ganhar força neste mês O CPI subiu 13 em base mensal e avançou 91 ante igual período de 2021 ficando acima das estimativas do mercado de altas de 11 e de 88Mercado embolsa lucros e dólar cai ante real mas cenário segue de alta para moeda dos EUAO dólar reverteu a alta de mais cedo e fechou em queda contra o real nesta quartafeira com investidores realizando lucros na moeda norteamericana aqui e no exterior após dias seguidos de compras e conforme se debruçaram sobre dados de inflação nos EUA acima do esperadoDólar cai e Ibovespa futuro sobe nesta quintafeira 18 veja o que move os mercadosO dólar abriu o pregão desta quintafeira 18 em queda Por volta das 9h00 a moeda recuava 021 a R 51533Dólar se aproxima de novo de R 5 Hora de comprar ou venderSe você quer complicar a vida de um economista ou analista de mercado pergunte a ele quanto acha que o dólar valerá no futuro Se no curto e no médio prazo já é difícil de se prever quem dirá então para prazos mais longosPreços do café oscilam perto de máxima de 4 anos no Vietnã com dólar mais forteOs preços do café no Vietnã oscilaram perto de uma máxima de quatro anos nesta semana devido ao dólar mais forte e à falta de estoques no final da safra disseram traders nesta quintafeiraIbovespa IBOV testa fôlego de alta em semana decisiva para o Federal ReserveO Ibovespa IBOV operava em alta na abertura do pregão desta segundafeira 25 com Federal Reserve Fed no radar Por volta das 10h05 o principal índice da Bolsa brasileira subia 040 aos 993 mil pontosIbovespa hoje Mercados esperam payroll para calibrar apostas sobre o FedO Ibovespa abre o pregão desta sextafeira 2 com as atenções dos mercados globais voltadas para os dados de emprego payroll nos Estados Unidos 9h30 Os investidores esperam que a criação de vagas a taxa de desemprego e o rendimento médio real sejam ruins o suficiente para enfraquecer a postura agressiva “hawkish” do Federal Reserve   Brent e WTI fecham mistos preocupações sobre recessão pesamOs preços do petróleo fecharam mistos nesta quintafeira com as preocupações sobre uma possível recessão global que derrubaria a demanda por energia compensando os menores estoques de petróleo dos EUA e uma recuperação no consumo de gasolinaTrigo se recupera em Chicago após mínima de 6 meses e milho e soja também sobemOs contratos futuros do trigo de Chicago subiram nesta quintafeira em recuperação após uma mínima de seis meses na sessão anterior impulsionados pelo dólar USDBLR fraco e conversas sobre uma reação na demanda na esteira do recente declínio nos preçosIbovespa hoje Bolsa e dólar esperam sem estresse por Jackson HoleO Ibovespa andou de lado ontem enquanto o dólar subiu pouco com os mercados locais blindandose da tensão no exterior enquanto os investidores esperam por Jackson Hole O importante evento começa hoje mas o destaque é amanhã quando discursa o presidente do Federal Reserve Jerome PowellPreços do café arábica caem em NY com valorização do dólar açúcar sobeOs contratos futuros de café arábica na ICE fecharam em baixa nesta quintafeira pressionados por um dólar mais forte embora as preocupações com o clima seco no maior produtor o Brasil tenham limitado as perdasIbovespa hoje Inflação nos EUA testa rali localO Ibovespa não sabe o que é terminar o dia no terreno negativo há exatos seis pregões Mas os números da inflação ao consumidor nos Estados Unidos CPI na sigla em inglês serão um teste de fogo nesta quartafeira 10 pondo à prova o rali localEspeculadores elevam apostas a favor do dólar na última semana–CFTC ReutersAs apostas líquidas compradas em dólar por parte de especuladores que revelam expectativa de valorização da moeda norteamericana subiram nos sete dias findos em 5 de julho de acordo com cálculos da Reuters e dados da CFTC uma agência dos EUA divulgados nesta sextafeiraDólar acompanha exterior e tem forte alta ante real com perspectiva de Fed mais agressivoO dólar saltava contra o real na manhã desta quintafeira acompanhando a força da moeda norteamericana no exterior conforme cresciam as apostas de que o Federal Reserve promoverá um aperto monetário mais agressivo do que o anteriormente estimado pelos mercados financeirosBanco Central Previsão de alta da inflação para 2022 cai para 730Os economistas ouvidos pelo Banco Central revisaram a previsão do Índice Nacional de Preços ao Consumidor Amplo IPCA ao final deste ano passando de 754 para  730 Há um mês a projeção era de 827Nervosismo externo faz dólar subir para R 537A trégua no mercado financeiro durou pouco Após alguns dias de alívio o dólar voltou a subir nesta segundafeira 11 pressionado pelo nervosismo externoA cara do agronegócio para cada dólar com importação o Brasil fatura US 10O Brasil segue na vanguarda no setor de agribusiness o agronegócioCafé arábica salta quase 8 na ICE com dólar mais fraco e compra de torrefaçãoOs contratos futuros de café arábica na ICE fecharam em alta de quase 8 nesta segundafeira com o mercado se recuperando parcialmente de uma baixa de 9 meses atingida no final da semana passadaDólar cai e Ibovespa futuro opera entre perdas e ganhos no último pregão de julho veja o que move os mercadosO dólar operava em queda na abertura do pregão desta sextafeira 29 Por volta das 9h00 a moeda recuava 024 a R 51700 Japão alerta contra volatilidade após queda do iene para mínima de 24 anosA queda do iene para mínima de 24 anos em relação ao dólar nesta quintafeira levou autoridades do Japão a alertar que observam os movimentos da moeda com um “alto senso de urgência” usando linguagem forte para sugerir uma possibilidade de eventual intervenção no mercadoIbovespa IBOV fecha em queda abaixo dos 100 mil pontos com cautela global sobre FedSeguindo o humor negativo dos mercados dos Estados Unidos o Ibovespa IBOV fechou em queda nesta terçafeira 26 perdendo o patamar dos 100 mil pontos que reconquistou na sessão passadaDólar reverte perdas e vai acima de R 540 com piora externaO dólar passou a subir ligeiramente contra o real depois de mais cedo ter chegado a cair quase 1 acompanhando piora no desempenho de alguns ativos de risco no exterior conforme investidores avaliavam as perspectivas para o crescimento econômico global antes de decisões de política monetária de grandes bancos centraisDólar fecha em alta em dia volátil à espera de Fed e localO dólar à vista fechou em leve alta de 01 cotado a R 510 para venda O pregão foi de forte volatilidade e a moeda norteamericana operou praticamente sem rumoDólar paralelo argentino atinge nível recorde em piora da criseA desvalorização do peso Argentino no mercado paralelo atingiu um novo recorde na terçafeira em uma piora da crise provocada pela renúncia do exministro da economia Martín Guzmán no início deste mêsDólar cai e Ibovespa futuro sobe em dia marcado pelas falas de PowellO dólar abriu o pregão desta sextafeira 26 em queda Por volta das 9h03 a moeda recuava 013 a R 51033Dólar opera entre perdas e ganhos e Ibovespa futuro cai nesta terça veja o que move os mercadosO dólar operava entre perdas e ganhos na abertura do pregão desta terçafeira 9 Por volta das 9h05 a moeda avançava 010 a R 51170 Dólar cai e Ibovespa futuro sobe após inflação nos EUA veja o que move os mercadosO dólar operava em queda na abertura do pregão desta quartafeira 10 Por volta das 9h00 a moeda recuava 022 a R 51123Ibovespa futuro e dólar operam em queda com exterior negativoO dólar abriu o pregão desta quartafeira 24 sem direção definida Por volta das 9h05 a moeda recuava 002 a R 51027Ibovespa IBOV Falas de Powell tranquilizam e índice fecha acima dos 101 mil pontosO Ibovespa IBOV terminou esta quartafeira 27 em alta expressiva de mais de 1 retomando os 101 mil pontos após Jerome Powell presidente do Federal Reserve Fed tranquilizar os mercados quanto ao ritmo do ciclo de aperto monetário nos Estados UnidosEstrategistas de Bitcoin dizem que gráficos sinalizam quedaO Bitcoin pode estar prestes a outro movimento de queda a julgar por uma série de gráficos técnicosIbovespa sobe após Copom em dia de exterior positivoO Ibovespa subia nesta quintafeira 4 com os mercados internacionais no primeiro pregão após decisão de política monetária do Banco CentralYellen nota depreciação do iene e diz que intervenção só se justifica em casos “raros”A secretária do Tesouro dos Estados Unidos Janet Yellen reconheceu nesta terçafeira a desvalorização substancial do iene japonês nas últimas semanas mas disse que a visão dos EUA continua sendo de que a intervenção cambial é justificada apenas em “circunstâncias raras e excepcionais”Dólar cai e Ibovespa futuro sobe no 1º pregão de agosto veja o que move os mercadosO dólar operava em queda na abertura do pregão desta segundafeira 01 Por volta das 9h00 a moeda recuava 030 a R 51578 Petróleo sobe quase 2 com dados econômicos fortesOs preços do petróleo subiram quase 2 nesta segundafeira em negociações voláteis recuperandose das mínimas de vários meses atingidas na semana passada com dados econômicos positivos da China e dos Estados Unidos alimentando expectativas de demanda apesar dos temores de uma recessãoEm 2022 euro já acumula perda de 15 em relação ao realO euro surpreendeu o mercado ao atingir quase a mesma taxa de câmbio do dólar – essa foi a primeira vez em 20 anos que as moedas alcançaram a paridadeDólar segue exterior e recua ante real mas riscos locais seguem no radarO dólar tinha queda frente ao real nesta terçafeira em linha com o enfraquecimento internacional da divisa norteamericana à medida que investidores aguardavam decisões de política monetária de grandes bancos centrais embora riscos políticofiscais domésticos permanecessem no radarDólar cai e Ibovespa futuro sobe em quinta pós Copom veja o que move os mercadosO dólar operava entre perdas e ganhos na abertura do pregão desta quintafeira 04 com um sinal positivo vindo dos mercados internacionais Por volta das 9h02 a moeda recuava 005 a R 52791 Dólar cai e Ibovespa futuro sobe na abertura desta segunda veja o que move os mercadosO dólar operava em queda na abertura do pregão desta segundafeira 22 acompanhando movimento semelhante dos mercados de câmbio globais com o foco na reunião de política monetária do Federeal Reserve mais tarde nesta semana Por volta das 9h00 a moeda norteamericana recuava 040 a R 54748 Ibovespa hoje Tensão geopolítica eleva aversão ao risco e contamina mercadosO Ibovespa deve ser contaminado pela aversão ao risco nos mercados globais hoje A escalada da tensão geopolítica entre Estados Unidos e China com o iminente desembarque de Nancy Pelosi em Taiwan mergulha bolsas e commodities no vermelhoIbovespa IBOV opera entre perdas e ganhos com Petrobras PETR4 e NYO Ibovespa IBOV operava entre perdas e ganhos na abertura do pregão desta sextafeira 29 apesar da alta dos índices futuros em Nova York Por volta das 10h05 o principal índice da Bolsa brasileira subia 005 aos 1026 mi pontosCom Argentina ‘barata’ Brasil ganha mais 52 voos para o paísEm um cenário de desvalorização do peso argentino o real – mesmo mais fraco perante o dólar – ganhou poder de compra no país vizinhoIbovespa hoje Mercados monitoram tensão em Taiwan em alta em dia de CopomO Ibovespa deve acompanhar o tom positivo que prevalece nos mercados internacionais desde ontem quando o pouso de Nancy Pelosi em Taiwan acalmou os investidores Ainda assim a tensão geopolítica entre Estados Unidos e China segue no radarReal se valoriza até 18 frente a outras moedas latinasNo último ano o real se valorizou diante de outras moedas especialmente de países da América Latina De acordo com um levantamento da Frente Corretora perante ao peso argentino a moeda brasileira avançou 1868Americanos se mudam para Europa em busca de moradia mais barataMais americanos estão se mudando para a Europa levados para o outro lado do Atlântico pelo aumento do custo de vida preços de imóveis inflados um dólar forte e polarização política em casaDólar cai e Ibovespa futuro sobe em dia de decisão do Fed veja o que move os mercadosO dólar operava em queda na abertura do pregão desta quartafeira 27 dia de decisão do Federal Reserve Fed Por volta das 9h00 a moeda recuava 038 a R 53308 Yellen e ministro das Finanças do Japão vão discutir iene fraco e mais sanções contra RússiaA secretária do Tesouro dos Estados Unidos Janet Yellen discutirá maneiras de endurecer ainda mais as sanções ocidentais contra a Rússia por sua guerra na Ucrânia quando se reunir com o ministro das Finanças japonês Shunichi Suzuki na terçafeira disse o Departamento do TesouroExportações em alta do arroz pelo Brasil poderão estar destacadas no 2T22 da Camil CAML3O que pode aparecer diferenciado nos resultados da Camil CAML3 no segundo trimestre de 2022 são os ganhos brasileiros com exportações do arroz que aumentaram substancialmente tanto pelo dólar favorável quanto por problemas de oferta em outras origensCafé arábica cai abaixo de US 2 na ICE para menor patamar em 9 mesesOs contratos futuros de café arábica na ICE caíram abaixo de 2 dólares por librapeso nesta quintafeira e atingiram uma mínima de 9 meses uma vez que os sinais técnicos de baixa provocaram mais vendas por fundos e as exportações do Brasil principal produtor continuaram a acelerarPetróleo dos EUA fecha abaixo de US 95 com ajustes da UE nas sanções à RússiaOs preços do petróleo nos EUA ficaram abaixo de 95 dólares o barril pela primeira vez desde abril em negociações agitadas nesta sextafeira depois que a União Europeia disse que permitiria que empresas estatais russas enviassem petróleo para outros países sob um ajuste de sanções acordado pelos Estados membros nesta semanaAproveite a alta dos juros nos EUA Fed aumenta taxas em 075 pp e um grupo VIP de renda fixa abre vagas para interessados em títulos premiumHoje 27 é um dia decisivo para a economia dos Estados Unidos O Fed Federal Reserve banco central da potência mundial divulgou a nova taxa de juros do país que aumentou 075 pp e agora está em uma faixa de 225 a 250 O resultado foi de acordo com as expectativas do mercado e é uma tentativa para esfriar os efeitos inflacionários no paísPetróleo fecha em alta com queda de estoque dos EUA e cortes de gás na RússiaOs preços do petróleo fecharam em alta de mais de 2 dólares nesta quartafeira com a divulgação do relatório de estoques mais baixos nos Estados Unidos e cortes nos fluxos de gás russo para a Europa compensando a preocupação com a demanda mais fraca e um aumento da taxa de juros norteamericanaIbovespa IBOV Wall Street mais fraco não afeta índice que estende ganhos do pregão passadoO Ibovespa IBOV conseguiu se proteger mais uma vez do movimento fraco nos mercados americanos e fechou em alta nesta sextafeira 5 estendendo os ganhos do pregão passadoDólar cai no dia mas fecha a semana em alta com exteriorO dólar à vista fechou em queda de 1 frente ao real negociado a R 518 para venda em alívio com os dados do mercado de trabalho dos Estados Unidos o payroll em agostoDólar salta mais de 1 ante real com aversão a risco internacional e tensões domésticasO dólar tinha fortes ganhos frente à moeda brasileira indo acima de 535 reais conforme novos casos de Covid19 na China e ameaça de crise energética na Europa alimentavam temores de uma recessão global com as crescentes tensões políticas e fiscais domésticas exacerbando o clima de aversão a riscoIbovespa hoje Mercado testa dinâmica própria após encerrar agosto à prova de choques externosO Ibovespa encerrou agosto cravando o melhor desempenho no mês em moeda local 581 e em dólar 616 entre as principais bolsas globais esnobando os riscos vindos do exterior Em contrapartida os índices acionários em Nova York perderam mais de 4 cada apenas no mês passado acumulando queda de dois dígitos no anoReceita em US sem descontar inflação segura timidez do agro no PIB 3T22 sazonalidade viraA leve contribuição positiva da agropecuária no Produto Interno Bruto PIB do segundo trimestre 2T22 de 05 foi dedicada à evolução do plantio do milho de inverno e aos preços internacionais valorizados que puxaram os resultados das commodities e da carne bovina esta também avançou em quantidade exportadaIbovespa hoje Mercado local tem dinâmica própria em dia de ata do Copom e IPCAO Ibovespa deve continuar vivendo sua dinâmica própria nesta terçafeira 9 um dia depois de ter se descolado dos mercados internacionais retomado os 108 mil pontos Lá fora os investidores estendem mais um dia de cautela diante da agenda vazia e à espera dos números da inflação ao consumidor nos Estados Unidos CPI amanhãDólar sobe e Ibovespa futuro opera entre perdas e ganhos nesta terça veja o que move os mercadosO dólar operava em alta na abertura do pregão desta segundafeira 22 Por volta das 9h05 a moeda norteamericana avançava 060 a R 53897 Dólar busca R 5 com inflação dos EUA e leitura de Fed menos agressivoO dólar à vista recua 15 e opera no menor nível em dois meses a R 504 acompanhando o movimento no exterior A moeda reage aos dados de inflação dos Estados Unidos CPI que vieram abaixo do esperado e devem atenuar o tom mais agressivo “hawkish” do Federal Reserve Fed o banco central norteamericanoIbovespa e outros ativos brasileiros têm prêmio de risco atrativo mas não banque o “herói”O Ibovespa o dólar e as taxas de juros no Brasil estão com prêmio de risco atrativo aos investidores apesar do cenário internacional desafiador avalia o gestor da TAG Investimentos Dan KawaCafé arábica cai para mínima de 2 meses na ICE e açúcar também recuaOs contratos futuros de café arábica na ICE caíram acentuadamente para uma mínima de dois meses nesta terçafeira pressionados pela fraqueza da moeda do Brasil maior produtor e pela perspectiva de que uma desaceleração econômica global possa conter o consumoPortfólios de mercados emergentes têm maior sequência de saídas mensais já registrada diz IIFOs mercados emergentes registraram um quinto mês consecutivo de saídas de carteiras em julho estabelecendo a mais longa sequência do tipo desde 2005 com o risco de recessão global a inflação e um dólar forte afastando investimentos mostraram dados do Instituto de Finanças Internacionais IIF na sigla em inglês nesta quartafeiraDólar passa a subir e busca os R 520 com exterior atento ao FedO dólar à vista opera em alta frente ao real negociado a R 518 para venda exibindo forte volatilidade nas primeiras horas de pregão Há pouco a moeda norteamericana subia 03Dólar sobe e Ibovespa futuro cai nesta sextafeira veja o que move os mercadosO dólar operava em alta na abertura do pregão desta sextafeira 5 Por volta das 9h00 a moeda avançava 025 a R 52292 Mais tarde às 9h50 após a divulgação do payroll nos EUA a moeda acelerou 112 cotada a 52750Na cartilha Selic mais alta atrai dólares real se fortalece e grãos ficam mais carosCom um olho nas cotações das commodities agrícolas os exportadores brasileiros deixam o outro bem aberto ao movimento do dólar a partir de amanhã sob o efeito do resultado da nova taxa de juros que será conhecida nesta quarta 3 no fim de tardePrimeiro o tango Musicais da Disney ficam para depois com dólar caro EntendaA porta de entrada de muitos brasileiros mundo afora é a Argentina Perto do Brasil com idioma mais fácil de entender e moeda mais barata Um combo interessante para atrair a iscaBrent fecha abaixo de US 100/barril com alta do dólar e perspectiva de demanda fracaO petróleo Brent caiu 7 dólares nesta terçafeira fechando abaixo de 100 dólares o barril pela primeira vez em três meses com o fortalecimento do dólar as restrições da Covid19 que prejudicam a demanda no principal importador de petróleo a China e os crescentes temores de uma desaceleração econômica globalBC do Chile anuncia programa de intervenção cambial de até US 25 bi em meio a disparada do dólarO Banco Central do Chile anunciou um programa de intervenção no mercado cambial de até 25 bilhões de dólares para evitar possíveis distorções devido ao galopante avanço da moeda norteamericana nas últimas semanasGaloppo é trazido ao São Paulo pela Bitso com pagamento em USDCA Bitso corretora cripto e o São Paulo Futebol Clube anunciaram nesta quartafeira 27 a colaboração para a contratação do meiocampista Giuliano Galoppo junto ao clube argentino Club Atlético Banfield utilizando a criptomoeda USDC – stablecoin pareada ao dólarIbovespa IBOV testa alta apesar de índices futuros em NY operarem no negativoO Ibovespa IBOV operava em alta nesta sextafeira 5 apesar de os índices futuros nos Estados Unidos operarem majoritariamente no negativo Por volta das 10h10 o principal índice da Bolsa brasileira avançava 016 aos 1060 mil pontosPreço do petróleo sobe US 2 com recuo do dólar e desconfiança do mercado sobre FedOs preços do petróleo subiram cerca de 2 dólares nesta segundafeira impulsionados por temores de oferta uma queda no dólar norteamericano e uma força inicial nos mercados de açõesTendência é de que os bancos aumentem a internacionalização dos clientes diz executivo do InterNesta semana o Inter lançou a sua conta internacional que permite fazer movimentações em dólar por meio do aplicativo do banco A ideia é facilitar a compra de dólar para brasileiros que viajam para o exterior ou que moram fora do país além de possibilitar compras internacionais sem o pagamento de Imposto sobre Operações Financeiras IOFVai e vem dá as caras e dólar passa a cair com fluxo local e exteriorO dólar à vista inverteu o sinal e passou a cair frente ao real após exibir alta firme e tocar os R 520 nas primeiras horas de negóciosDólar sobe e vai a R 521 em cautela com Fed e eleiçõesO dólar à vista opera em alta frente ao real voltando a ficar acima do nível de R 520 após duas semanas A espera pela ata da última reunião do Federal Reserve Fed o banco central norteamericano e o cenário eleitoral alimentam a cautela que prevalece no mercado domésticoBrasil contabiliza em julho fluxo cambial positivo de US 1834 bi mostra Banco CentralO fluxo cambial ao Brasil ficou positivo em 1834 bilhão de dólares em julho com novamente a conta comercial mais do que compensando saídas nas operações financeiras mostraram dados do Banco Central nesta quartafeiraIbovespa hoje Mercados ensaiam recuperação após dois dias de forte pressãoO Ibovespa deve interromper hoje a sequência de dois pregões seguidos de queda firme o que levou o índice de referência da B3 de volta à marca dos 110 mil pontos O dia parece ser de recuperação dos mercados internacionais o que alivia a pressão sobre os ativos de risco locaisEuro permanece abaixo da paridade em relação ao dólar é hora de comprarO euro voltou a ser negociado abaixo da paridade em relação ao dólar desde segundafeira 22 Após um breve rompimento desse suporte em julho parece que desta vez a marca simbólica de US 1 por € 1 ficou mesmo para trásDólar fecha estável com exterior e interrompe sequência de altasO dólar à vista fechou estável frente ao real na casa dos R 516 após forte volatilidade no movimento intradiário Com isso a moeda norteamericana interrompeu sequência de quatro altas seguidasSoja milho café e açúcar em mais um dia descolados dos mercados financeirosA confirmação dos 075 pontos percentuais de alta dos juros nos EUA conforme esperado não alterou os rumos dos ativos de risco Já estava nos preços de modo de as commodities agrícolas reagiram a seus fundamentos e seguem assim nesta quinta 28Com lucro menor de empresas Wall Street revê previsão para 3º trimestAs maiores empresas de capital aberto nos Estados Unidos entregaram no segundo trimestre a menor taxa de crescimento nos lucros desde o quarto trimestre de 2020 quando o mundo era chacoalhado pela covid19 Dólar será crucial para preço de alimentos diz BTG PactualA valorização do real nos últimos dias tem mantido os preços de alimentos praticamente estáveis e a taxa de câmbio será crucial para o grupo no curto prazo avalia a equipe econômica do BTG PactualIbovespa futuro afunda após dados da inflação nos EUA veja o que move o índiceO Ibovespa futuro operava em leve queda na abertura do pregão desta quartafeira 13 Às 9h05 o índice desvalorizava 006 cotado a 995 mil pontosEuro entra em paridade com dólar Saiba o que o Brasil pode ensinar à EuropaO dia 1 de janeiro de 2002 foi um importante marco na história da economia moderna Nesta data entraram em circulação as notas do euro em doze países da União EuropeiaMercado já projeta Selic de até 1450 com disparada do dólarO mercado de juros futuros já precifica uma Selic próxima a 1450 no final do ciclo de aperto monetário acima dos 1425 da taxa final observada no aperto encerrado em 2016Dólar alto fora pressão no real aqui Como as commodities agro podem ganhar com aversão ao riscoA semana já está dando mostras de que as commodities agrícolas vão ter uma nova safra de fortes oscilações e o dólar contra o real USDBRL deverá ficar mais presente no radar dos agentes especialmente porque a divisa americana cotada internacionalmente pode seguir ganhandoAções europeias se recuperam com foco na Itália e reunião de política monetária do BCEAs montadoras e as ações de varejo lideraram uma recuperação das bolsas europeias nesta sextafeira após dois dias de perdas em que os investidores tiveram de lidar com mudanças nas expectativas de aumento da taxa de juros nos Estados Unidos uma crise política na Itália e riscos de recessãoDólar vai a R 515 e fecha em alta antes de inflação americanaO dólar à vista fechou em alta de 032 negociado a R 51280 para venda em dia de forte volatilidade acompanhando o exterior onde o mercado espera do índice de preços ao consumidor CPI na sigla em inglês de julho dos Estados Unidos que saem amanhãCom virada de último minuto do Dow Jones Wall Street encerra pregão no azulAs Bolsas de Nova York fecharam o penúltimo pregão da semana com ganhos modestos em meio a sinais divergentes dos dirigentes do Federal ReserveSoja e milho sob pressão de clima mas oleaginosa ainda testa ‘comprinhas’ chinesasO clima irregular nos Estados Unidos deve comandar mais um dia nesta segunda 8 os movimentos da soja e do milho na Bolsa de Commodities de Chicago CBOT do inglês mantendo parte da liderança entre os fundamentos que foram presentes na semana anteriorPetroleira BP eleva dividendos após lucro atingir patamar mais alto em 14 anosO lucro do segundo trimestre da BP subiu para 845 bilhões de dólares o maior em 14 anos e superou em muito as expectativas de analistas de 68 bilhões de dólaresFed pode elevar juros em 075 pp se mercado de trabalho continuar aquecidoNesta sextafeira 5 foram divulgados relatório de emprego dos Estados Unidos conhecido como payroll e os dados foram decepcionantes para o mercado foram criadas 528 mil vagas em julho ante uma projeção de 250 mil postos de trabalhoIbovespa hoje Mercados buscam direção no dia seguinte ao Fed e em meio à safra de balançosOs mercados internacionais amanheceram de ressaca no dia seguinte à decisão do Federal Reserve ao mesmo tempo em que digerem a safra de balanços Os ativos de risco não exibem um rumo único no exterior nesta manhã deixando indefinida a direção do Ibovespa após avançar para além dos 100 mil pontos ontemAçúcar bruto sobe após mínima de 4 meses na ICE e café recuaOs preços futuros do açúcar bruto subiram ligeiramente na ICE nesta quartafeira afastandose da mínima de quatro meses da sessão anterior embora as cotações mais baixas do petróleo e um dólar forte mantivessem um limite no mercadoDólar fecha no menor valor desde junho com fluxo localO dólar à vista fechou em queda de 05 frente ao real negociado a R 503 para venda no menor valor desde junho deste anoDólar recua e Ibovespa futuro avança nesta terça 30 veja o que move o diaO dólar abria o pregão desta terçafeira 30 em queda Por volta das 9h00 a moeda recuava 027 a R 50149Ibovespa hoje Ações globais sobem mas petróleo cai em meio à crise de energiaO Ibovespa deve acompanhar a recuperação engatada pelos mercados internacionais nesta terçafeira 30 um dia após a queda em Wall Street apagar os ganhos dos negócios locais Os índices futuros das bolsas de Nova York amanheceram em alta beneficiados pelo recuo do petróleoReservas da stablecoin tether caíram US 16 bi no 2º triOs responsáveis pelo tether uma das maiores stablecoins do mundo em valor de mercado afirmaram nesta sextafeira que as reservas da moeda somavam 664 bilhões de dólares no final de junho queda ante os 824 bilhões apurados no final de marçoIbovespa IBOV perde fôlego com virada em Wall Street mas fecha em altaO Ibovespa IBOV perdeu fôlego ao longo desta segundafeira 18 mas conseguiu fechar o pregão em alta descolandose de Wall Street que virou para uma tendência de baixaDólar tem alta acentuada frente ao real com tensão EUAChina minando apetite por riscoO dólar subia acentuadamente frente o real nos primeiros negócios desta terçafeira com tensões crescentes entre Estados Unidos e China afetando o sentimento de risco internacional enquanto investidores locais aguardavam a conclusão da reunião de política monetária de dois dias do Banco CentralAções europeias caem após inflação nos EUA e queda do euro abaixo da paridade com dólarAs ações europeias caíram nesta quartafeira depois que dados da inflação dos Estados Unidos acima do esperado para junho alimentaram apostas sobre uma ação mais agressiva de política monetária pelo Federal Reserve ao mesmo tempo em que o Banco Central Europeu ficou sob pressão depois que o euro caiu abaixo da paridade em relação ao dólarSoja e milho testam fundamentos enquanto os mercados financeiros não se definemOs derivativos futuros das commodities agrícolas como soja e milho estão buscando se aprumar em meio à expectativa de que o humor dos mercados financeiros dos Estados Unidos se renove depois dos resultados da Netflix que puxaram as bolsas ontemIbovespa fecha julho no maior nível em 7 semanas e NY tem o melhor mês do ano Mercado pode se arrependerO mês de julho foi marcado por muitos superlativos nos mercados Até a metade do mês reinava o temor de recessão nos Estados Unidos Mesmo assim o Federal Reserve mostravase disposto em elevar a taxa de jurosDólar volta a subir seguindo exterior e abre setembro com forte volatilidadeO dólar à vista opera com forte volatilidade no primeiro pregão de setembro indo de R 514 a R 522 em apenas três horas de negóciosDólar e Ibovespa futuro caem em dia de decisão do Copom veja o que move os mercadosO dólar operava em queda na abertura do pregão desta quartafeira 03 Por volta das 9h00 a moeda recuava 048 a R 52529 Japão e China reduzem participações em Treasuries para mínimas em vários anos mostram dadosJapão e China reduziram em maio suas participações em títulos do governo dos Estados Unidos para os menores níveis em vários anos segundo dados do Departamento do Tesouro dos EUA nesta segundafeiraPeso argentino é a moeda mais buscada nas casas de câmbio em julhoA desvalorização do peso argentino fez a procura pela moeda aumentar nas casas de câmbio brasileirasEuro turismo chega a R 563 nas casas de câmbio em meio à quedaQuem estava planejando viajar para a Europa é melhor aproveitar Pela primeira vez em 20 anos o euro atingiu a paridade com o dólar – a cotação até ficou menor do que US 1Dólar supera R 540 e vai à máxima desde janeiro com exteriorO dólar voltou a subir mais de 1 nesta terçafeira e rompeu mais uma resistência psicológica ao fechar acima de 540 reais nos valores máximos desde janeiro com o clima externo avesso a risco mais uma vez impulsionando a busca pela segurança da moeda norteamericana antes de aguardados dados de inflação nos EUA previstos para esta quartafeiraDólar recua e Ibovespa futuro sobe nesta terçafeira veja o que move os mercadosO dólar operava em leve queda na abertura do pregão desta terçafeira 19 Por volta das 9h00 a moeda norteamericana recuava 050 a R 54105 Dólar fecha no menor valor desde junho e busca R 5 EntendaO dólar à vista fechou em queda de 08 negociado a R 508 para venda – menor valor desde junho  em dia positivo para os ativos de risco após os dados de inflação dos Estados Unidos CPI na sigla em inglês ficarem abaixo do esperado pelo mercado Com isso a leitura é de que o Federal Reserve Fed o banco central norteamericano deve adotar uma postura menos agressiva “hawkish” na próxima reunião de política monetáriaBiden diz que inflação de junho veio “inaceitavelmente alta” mas está desatualizadaO presidente dos Estados Unidos Joe Biden disse que os números da inflação de junho vieram “inaceitavelmente altos“ mas também que estão desatualizados devido à recente queda nos valores da gasolinaCiti Morgan Stanley divergem sobre impulso de lucros para açõesOs estrategistas do Citigroup e do Morgan Stanley estão divididos sobre o impacto da temporada de balanços nas ações dos EUA no segundo semestre do anoDólar opera em alta nesta quintafeira 14 veja o que movimenta os mercadosO dólar operava em alta na abertura do pregão desta quintafeira 14 em meio ao temor pelo aperto monetário e recessão nos Estados Unidos Por volta das 9h05 a moeda norteamericana avançava 13 a R 54620 Preço do petróleo cai com demanda fraca por gasolina no verão dos EUAOs preços do petróleo caíram nesta quartafeira depois que dados do governo dos EUA mostraram menor demanda por gasolina durante o pico da temporada de verão no país e porque os aumentos das taxas de juros pelos bancos centrais para combater a inflação alimentaram temores de que a economia possa desacelerar reduzindo a demanda por energiaIbovespa IBOV Mau humor dos mercados globais atinge índice que volta aos 102 mil pontosO Ibovespa IBOV abriu a semana pressionado pelo mau humor dos mercados globais que acompanharam a divulgação de dados econômicos na China Estados Unidos e Zona do EuroVórtx movimenta U 11 milhões em primeira operação de CRA em dólarA Vórtx anunciou nesta segundafeira 2 uma operação de CRA Certificado de Recebíveis do Agronegócio em dólar com exigências “verdes” para fomentar a produção agrícola sustentável no Brasil O volume da operação foi de U 11 milhões equivalente a R 55 milhõesDólar abre 1º pregão de setembro em alta Ibovespa futuro opera em quedaO dólar abre o pregão desta quintafeira 1 em alta Por volta das 9h03 a moeda avançava 031 a R 51994Inflação alta é o novo normal menos em alguns países saiba maisA inflação começou a dar os primeiros sinais de desaceleração em julho Tanto no Brasil quanto nos Estados Unidos os índices oficiais de preços ao consumidor deixaram a sensação de que o pior já passouDólar toca os R 5 e opera no seu menor valor desde junhoO dólar à vista opera em queda desde o fim da manhã e renovou as mínimas do pregão tocando rapidamente o nível de R 500 Vagas home office Posições com salários de até R 20 mil e remuneração em dólarEmpresas como Raízen e Petlove estão com vagas no modelo home office para quem busca recolocação ou inserção no mercado de trabalho Tem ainda aquelas que oferecem posições com salários entre R 13 mil a R 20 mil e remuneração em dólarDólar sobe mais de 1 a R 518 com disputa da Ptax e exteriorO dólar à vista sobe mais de 1 frente ao real chegando a ser negociado a R 520 em dia de disputa pela formação de preço da taxa Ptax – média das cotações apuradas pelo Banco Central BC  de fim de mêsIbovespa hoje Commodities em alta bolsas com quadro misto antes do Fed e em dia de IPCA15O Ibovespa deve abrir o pregão desta terçafeira 26 dividido entre o sinal positivo vindo das commodities e o desempenho negativo vindo dos índices futuros das bolsas de Nova York  A revisão em baixa das projeções guidance do WalMart para o ano citando um cenário desafiador em meio à alta da inflação nos Estados Unidos pesa em Wall StreetTrigo cai 3 em Chicago com retomada de embarques da Ucrânia milho e soja também recuamOs futuros de trigo dos EUA caíram mais de 3 nesta terçafeira com a retomada das exportações marítimas de grãos da Ucrânia amenizando as preocupações com o fornecimento global além da alta do dólar que torna os grãos americanos menos competitivos globalmenteIbovespa IBOV reverte queda com impulso de Wall Street e fecha em 99 mil pontosO Ibovespa IBOV conseguiu reverter nesta quintafeira 21 a tendência de queda do início do dia seguindo a melhora de sentimento nos mercados norteamericanosDólar volta a subir e resiste a marca de R 500O dólar à vista opera em alta frente ao real após exibir forte volatilidade no início dos negócios Hoje a moeda norteamericana tocou mais uma vez na marca de R 500 mas resiste em permanecer ou furar esse nívelCampanha de Lula elabora plano para política cambial mais intervencionistaA equipe por trás do programa econômico do expresidente Luiz Inácio Lula da Silva elabora planos para uma política cambial mais agressiva incluindo uma busca por maior intervenção na moeda e regulamentação mais rígida de derivativos para conter volatilidadesDólar fecha em queda com exterior recalculando rota do FedO dólar à vista fechou em queda de 113 frente ao real negociado a R 509 para venda O movimento local acompanhou o exterior onde prevaleceu o apetite por riscoPreços do petróleo terminam semana em mínimas de vários meses com temores de recessãoOs preços do petróleo fecharam em alta nesta sextafeira recuperando algumas das perdas da semana com os fortes dados de crescimento do emprego nos EUA mas o desempenho semanal atingiu os níveis mais baixos desde fevereiro abalados por preocupações de que uma recessão possa afetar a demanda por combustívelTrader profissional com 98675 de lucro revela o seu segredo na próxima quinta participeO day trade é uma das operações mais controversas do mercado de ações Esse tipo de negociação envolve a compra e venda no mesmo dia de ativos como ações dólar e índices Em alguns casos a transação pode durar poucos minutosDólar e Ibovespa futuro operam sem forças nesta quinta veja o que move os mercadosO dólar operava em leve alta na abertura do pregão desta quintafeira 21 puxado pelo movimento de aversão ao risco no exterior Por volta das 9h05 a moeda norteamericana avançava 010 a R 54769 Euro empata com dólar e anima trader que lucrou 1131 em menos de um ano ‘a volatilidade cambial é um prato cheio para quem quer ganhar dinheiro’Após quase 20 anos foi restabelecida nesta quartafeira a paridade entre as duas principais moedas da economia global a cotação euro/dólar ficou em praticamente 11 diante da perda de competitividade da divisa europeia que já se desvalorizou em 15 neste ano perante a moeda americanaLucro líquido do Mercado Livre sobe 80 no 2º triO lucro do Mercado Livre disparou no segundo trimestre ilustrando como o maior grupo de comércio eletrônico da América Latina está sendo bem sucedido na estratégia de priorizar rentabilidade mesmo num momento de desaceleração de vendas e da base de clientesBitcoin BTC toca em US 24 mil recua mas segura acima de US 23 milO Bitcoin BTC operou acima de US 24 mil nesta terçafeira 19 Todavia a criptomoeda recuou mas se mantém acima do suporte de US 23 mil A resistência do bitcoin parece estar na casa dos US 25 milPeso argentino no mercado paralelo cai a mínima de 300 por dólar–operadoresO peso argentino negociado no mercado paralelo também conhecido como “blue” atingiu a barreira psicológica de 300 por dólar nesta terçafeira dia de negócios reduzidos e sem vendedores genuínos da moeda norteamericana disseram operadoresSPX salta e Verde perde com bolsaOs principais fundos multimercado do Brasil reduziram suas apostas em commodities à medida que os crescentes temores de uma recessão global esfriaram o forte rali do primeiro semestre do ano    1\n",
       "dtype: int64"
      ]
     },
     "execution_count": 20,
     "metadata": {},
     "output_type": "execute_result"
    }
   ],
   "source": [
    "# Relevantes (Target = 1)\n",
    "pal_relevantes.value_counts()"
   ]
  },
  {
   "cell_type": "markdown",
   "metadata": {},
   "source": [
    "___\n",
    "### Verificando a performance do Classificador\n",
    "\n",
    "Agora você deve testar o seu classificador com a base de Testes."
   ]
  },
  {
   "cell_type": "code",
   "execution_count": null,
   "metadata": {},
   "outputs": [],
   "source": []
  },
  {
   "cell_type": "code",
   "execution_count": null,
   "metadata": {},
   "outputs": [],
   "source": []
  },
  {
   "cell_type": "code",
   "execution_count": null,
   "metadata": {},
   "outputs": [],
   "source": []
  },
  {
   "cell_type": "markdown",
   "metadata": {},
   "source": [
    "___\n",
    "### Concluindo"
   ]
  },
  {
   "cell_type": "code",
   "execution_count": null,
   "metadata": {},
   "outputs": [],
   "source": []
  },
  {
   "cell_type": "code",
   "execution_count": null,
   "metadata": {},
   "outputs": [],
   "source": []
  },
  {
   "cell_type": "code",
   "execution_count": null,
   "metadata": {},
   "outputs": [],
   "source": []
  },
  {
   "cell_type": "markdown",
   "metadata": {},
   "source": [
    "___\n",
    "### Qualidade do Classificador a partir de novas separações das notícias entre Treinamento e Teste\n",
    "\n",
    "Caso for fazer esse item do Projeto"
   ]
  },
  {
   "cell_type": "code",
   "execution_count": null,
   "metadata": {},
   "outputs": [],
   "source": []
  },
  {
   "cell_type": "code",
   "execution_count": null,
   "metadata": {},
   "outputs": [],
   "source": []
  },
  {
   "cell_type": "code",
   "execution_count": null,
   "metadata": {},
   "outputs": [],
   "source": []
  },
  {
   "attachments": {},
   "cell_type": "markdown",
   "metadata": {},
   "source": [
    "___\n",
    "## Aperfeiçoamento:\n",
    "\n",
    "Trabalhos que conseguirem pelo menos conceito B vão evoluir em conceito dependendo da quantidade de itens avançados:\n",
    "\n",
    "* IMPLEMENTOU outras limpezas e transformações que não afetem a qualidade da informação contida nas notícias. Ex: stemming, lemmatization, stopwords\n",
    "* CONSIDEROU mais de duas caterogias na variável Target e INCREMENTOU a quantidade de notícias, mantendo pelo menos 250 notícias por caterogia (OBRIGATÓRIO PARA TRIOS, sem contar como item avançado)\n",
    "* Para Target com duas categorias: CRIOU pelo menos quatro categorias intermediárias de relevância baseadas na probabilidade: ex.: muito relevante, relevante, neutro, irrelevante, muito irrelevante\n",
    "* EXPLICOU porquê não pode usar o próprio classificador para gerar mais amostras de treinamento\n",
    "* PROPÔS diferentes cenários para Naïve Bayes fora do contexto do projeto (pelo menos dois cenários, exceto aqueles já apresentados em sala pelos professores: por exemplo, filtro de spam)\n",
    "* SUGERIU e EXPLICOU melhorias reais com indicações concretas de como implementar (indicar como fazer e indicar material de pesquisa)\n",
    "* FEZ o item Qualidade do Classificador a partir de novas separações das Notícias entre Treinamento e Teste descrito no enunciado do projeto (OBRIGATÓRIO para conceitos A ou A+)"
   ]
  },
  {
   "cell_type": "markdown",
   "metadata": {},
   "source": [
    "___\n",
    "## Referências"
   ]
  },
  {
   "cell_type": "markdown",
   "metadata": {},
   "source": [
    "[Naive Bayes and Text Classification](https://arxiv.org/pdf/1410.5329.pdf)  **Mais completo**\n",
    "\n",
    "[A practical explanation of a Naive Bayes Classifier](https://monkeylearn.com/blog/practical-explanation-naive-bayes-classifier/) **Mais simples**"
   ]
  },
  {
   "cell_type": "code",
   "execution_count": null,
   "metadata": {},
   "outputs": [],
   "source": []
  }
 ],
 "metadata": {
  "kernelspec": {
   "display_name": "Python 3.10.4 64-bit",
   "language": "python",
   "name": "python3"
  },
  "language_info": {
   "codemirror_mode": {
    "name": "ipython",
    "version": 3
   },
   "file_extension": ".py",
   "mimetype": "text/x-python",
   "name": "python",
   "nbconvert_exporter": "python",
   "pygments_lexer": "ipython3",
   "version": "3.10.4"
  },
  "vscode": {
   "interpreter": {
    "hash": "cdcf8f726040b12d3568ceac60b6ca4b3e4ab6e019e8147e37d5985e50983e9a"
   }
  }
 },
 "nbformat": 4,
 "nbformat_minor": 4
}
