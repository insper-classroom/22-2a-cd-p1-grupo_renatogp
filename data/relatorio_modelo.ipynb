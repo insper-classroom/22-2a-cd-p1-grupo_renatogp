{
 "cells": [
  {
   "cell_type": "markdown",
   "metadata": {},
   "source": [
    "# Projeto 1 - Ciência dos Dados"
   ]
  },
  {
   "cell_type": "markdown",
   "metadata": {},
   "source": [
    "Nome: Beatriz Borges Zackiewicz\n",
    "\n",
    "Nome: Renato Guedes Passarelli"
   ]
  },
  {
   "cell_type": "markdown",
   "metadata": {},
   "source": [
    "Atenção: Serão permitidos grupos de três pessoas, mas com uma rubrica mais exigente. Grupos deste tamanho precisarão fazer um questionário de avaliação de trabalho em equipe"
   ]
  },
  {
   "cell_type": "markdown",
   "metadata": {},
   "source": [
    "___\n",
    "Carregando algumas bibliotecas:"
   ]
  },
  {
   "cell_type": "code",
   "execution_count": 91,
   "metadata": {},
   "outputs": [
    {
     "name": "stdout",
     "output_type": "stream",
     "text": [
      "Requirement already satisfied: pip in c:\\users\\renat\\anaconda3\\lib\\site-packages (22.2.2)\n",
      "Requirement already satisfied: setuptools in c:\\users\\renat\\anaconda3\\lib\\site-packages (65.3.0)\n",
      "Requirement already satisfied: wheel in c:\\users\\renat\\anaconda3\\lib\\site-packages (0.37.1)\n"
     ]
    }
   ],
   "source": [
    "! pip install -U pip setuptools wheel\n",
    "! pip install -U spacy\n",
    "! python -m spacy download pt_core_news_lg\n",
    "\n",
    "%matplotlib inline\n",
    "import pandas as pd\n",
    "import matplotlib.pyplot as plt\n",
    "import numpy as np\n",
    "import os"
   ]
  },
  {
   "cell_type": "code",
   "execution_count": 3,
   "metadata": {
    "scrolled": false
   },
   "outputs": [
    {
     "name": "stdout",
     "output_type": "stream",
     "text": [
      "Esperamos trabalhar no diretório\n",
      "c:\\Users\\bebec\\OneDrive\\Área de Trabalho\\INSPER\\CDADOS\\CD22-2\\projeto01\\22-2a-cd-p1-grupo_renatogp\\data\n"
     ]
    }
   ],
   "source": [
    "print('Esperamos trabalhar no diretório')\n",
    "print(os.getcwd())"
   ]
  },
  {
   "cell_type": "markdown",
   "metadata": {},
   "source": [
    "Carregando a base de dados com as notícias classificadas manualmente:"
   ]
  },
  {
   "cell_type": "code",
   "execution_count": 4,
   "metadata": {},
   "outputs": [],
   "source": [
    "filename = 'dados.xlsx'"
   ]
  },
  {
   "cell_type": "code",
   "execution_count": 5,
   "metadata": {},
   "outputs": [
    {
     "data": {
      "text/html": [
       "<div>\n",
       "<style scoped>\n",
       "    .dataframe tbody tr th:only-of-type {\n",
       "        vertical-align: middle;\n",
       "    }\n",
       "\n",
       "    .dataframe tbody tr th {\n",
       "        vertical-align: top;\n",
       "    }\n",
       "\n",
       "    .dataframe thead th {\n",
       "        text-align: right;\n",
       "    }\n",
       "</style>\n",
       "<table border=\"1\" class=\"dataframe\">\n",
       "  <thead>\n",
       "    <tr style=\"text-align: right;\">\n",
       "      <th></th>\n",
       "      <th>Categoria</th>\n",
       "      <th>Titulo</th>\n",
       "      <th>PrimeiroParag</th>\n",
       "      <th>Data</th>\n",
       "      <th>Pagina</th>\n",
       "      <th>Target</th>\n",
       "    </tr>\n",
       "  </thead>\n",
       "  <tbody>\n",
       "    <tr>\n",
       "      <th>0</th>\n",
       "      <td>MT Labs</td>\n",
       "      <td>Pix agendado: você foi selecionado para ter a ...</td>\n",
       "      <td>Atenção: se o algoritmo do Google entregou ess...</td>\n",
       "      <td>13/07/2022 - 15:30</td>\n",
       "      <td>51</td>\n",
       "      <td>0</td>\n",
       "    </tr>\n",
       "    <tr>\n",
       "      <th>1</th>\n",
       "      <td>Economia</td>\n",
       "      <td>Gestores ‘de lado’ no câmbio com fim do ciclo ...</td>\n",
       "      <td>Uma corrida eleitoral mais acirrada do que o e...</td>\n",
       "      <td>09/08/2022 - 15:45</td>\n",
       "      <td>19</td>\n",
       "      <td>1</td>\n",
       "    </tr>\n",
       "    <tr>\n",
       "      <th>2</th>\n",
       "      <td>Ibovespa Futuro</td>\n",
       "      <td>Ibovespa futuro abre esta sexta-feira em leve ...</td>\n",
       "      <td>O Ibovespa futuro operava em queda na abertura...</td>\n",
       "      <td>08/07/2022 - 9:08</td>\n",
       "      <td>58</td>\n",
       "      <td>1</td>\n",
       "    </tr>\n",
       "    <tr>\n",
       "      <th>3</th>\n",
       "      <td>Café</td>\n",
       "      <td>Contratos futuros de café arábica ampliam perd...</td>\n",
       "      <td>Os contratos futuros do café arábica na ICE fe...</td>\n",
       "      <td>02/09/2022 - 17:32</td>\n",
       "      <td>1</td>\n",
       "      <td>0</td>\n",
       "    </tr>\n",
       "    <tr>\n",
       "      <th>4</th>\n",
       "      <td>Empresas</td>\n",
       "      <td>Com prejuízo bilionário, Gol vai cortar voos; ...</td>\n",
       "      <td>Após anunciar um prejuízo de R$ 2,85 bilhões n...</td>\n",
       "      <td>30/07/2022 - 15:33</td>\n",
       "      <td>28</td>\n",
       "      <td>1</td>\n",
       "    </tr>\n",
       "  </tbody>\n",
       "</table>\n",
       "</div>"
      ],
      "text/plain": [
       "          Categoria                                             Titulo  \\\n",
       "0           MT Labs  Pix agendado: você foi selecionado para ter a ...   \n",
       "1         Economia   Gestores ‘de lado’ no câmbio com fim do ciclo ...   \n",
       "2  Ibovespa Futuro   Ibovespa futuro abre esta sexta-feira em leve ...   \n",
       "3             Café   Contratos futuros de café arábica ampliam perd...   \n",
       "4         Empresas   Com prejuízo bilionário, Gol vai cortar voos; ...   \n",
       "\n",
       "                                       PrimeiroParag                Data  \\\n",
       "0  Atenção: se o algoritmo do Google entregou ess...  13/07/2022 - 15:30   \n",
       "1  Uma corrida eleitoral mais acirrada do que o e...  09/08/2022 - 15:45   \n",
       "2  O Ibovespa futuro operava em queda na abertura...   08/07/2022 - 9:08   \n",
       "3  Os contratos futuros do café arábica na ICE fe...  02/09/2022 - 17:32   \n",
       "4  Após anunciar um prejuízo de R$ 2,85 bilhões n...  30/07/2022 - 15:33   \n",
       "\n",
       "   Pagina  Target  \n",
       "0      51       0  \n",
       "1      19       1  \n",
       "2      58       1  \n",
       "3       1       0  \n",
       "4      28       1  "
      ]
     },
     "execution_count": 5,
     "metadata": {},
     "output_type": "execute_result"
    }
   ],
   "source": [
    "train = pd.read_excel(filename, sheet_name = 'Treinamento')\n",
    "train.head(5)"
   ]
  },
  {
   "cell_type": "code",
   "execution_count": 6,
   "metadata": {},
   "outputs": [
    {
     "data": {
      "text/html": [
       "<div>\n",
       "<style scoped>\n",
       "    .dataframe tbody tr th:only-of-type {\n",
       "        vertical-align: middle;\n",
       "    }\n",
       "\n",
       "    .dataframe tbody tr th {\n",
       "        vertical-align: top;\n",
       "    }\n",
       "\n",
       "    .dataframe thead th {\n",
       "        text-align: right;\n",
       "    }\n",
       "</style>\n",
       "<table border=\"1\" class=\"dataframe\">\n",
       "  <thead>\n",
       "    <tr style=\"text-align: right;\">\n",
       "      <th></th>\n",
       "      <th>Categoria</th>\n",
       "      <th>Titulo</th>\n",
       "      <th>PrimeiroParag</th>\n",
       "      <th>Data</th>\n",
       "      <th>Pagina</th>\n",
       "      <th>Target</th>\n",
       "    </tr>\n",
       "  </thead>\n",
       "  <tbody>\n",
       "    <tr>\n",
       "      <th>0</th>\n",
       "      <td>Mercados</td>\n",
       "      <td>Em dia sem direção definida, Ibovespa (IBOV) f...</td>\n",
       "      <td>O Ibovespa (IBOV) fechou esta terça-feira (12)...</td>\n",
       "      <td>12/07/2022 - 17:08</td>\n",
       "      <td>53</td>\n",
       "      <td>0</td>\n",
       "    </tr>\n",
       "    <tr>\n",
       "      <th>1</th>\n",
       "      <td>Commodities</td>\n",
       "      <td>Soja e milho se ajustam cautelosamente esperan...</td>\n",
       "      <td>No aguardo da direção que os mercados financei...</td>\n",
       "      <td>05/08/2022 - 8:08</td>\n",
       "      <td>22</td>\n",
       "      <td>1</td>\n",
       "    </tr>\n",
       "    <tr>\n",
       "      <th>2</th>\n",
       "      <td>Economia</td>\n",
       "      <td>Banco Central: Previsão de alta do IPCA em 202...</td>\n",
       "      <td>Os economistas ouvidos pelo Banco Central revi...</td>\n",
       "      <td>18/07/2022 - 8:34</td>\n",
       "      <td>46</td>\n",
       "      <td>0</td>\n",
       "    </tr>\n",
       "    <tr>\n",
       "      <th>3</th>\n",
       "      <td>Eleições 2022</td>\n",
       "      <td>Stuhlberger vê risco de ‘república das bananas...</td>\n",
       "      <td>Sócio da Verde Asset Management, o gestor Luis...</td>\n",
       "      <td>04/08/2022 - 7:19</td>\n",
       "      <td>24</td>\n",
       "      <td>0</td>\n",
       "    </tr>\n",
       "    <tr>\n",
       "      <th>4</th>\n",
       "      <td>Mercados</td>\n",
       "      <td>Dólar reage ao Copom e inflação, mas fica bara...</td>\n",
       "      <td>O dólar comercial sobe 0,5%, perto de R$ 5,14,...</td>\n",
       "      <td>09/08/2022 - 11:43</td>\n",
       "      <td>19</td>\n",
       "      <td>1</td>\n",
       "    </tr>\n",
       "  </tbody>\n",
       "</table>\n",
       "</div>"
      ],
      "text/plain": [
       "        Categoria                                             Titulo  \\\n",
       "0       Mercados   Em dia sem direção definida, Ibovespa (IBOV) f...   \n",
       "1    Commodities   Soja e milho se ajustam cautelosamente esperan...   \n",
       "2       Economia   Banco Central: Previsão de alta do IPCA em 202...   \n",
       "3  Eleições 2022   Stuhlberger vê risco de ‘república das bananas...   \n",
       "4       Mercados   Dólar reage ao Copom e inflação, mas fica bara...   \n",
       "\n",
       "                                       PrimeiroParag                Data  \\\n",
       "0  O Ibovespa (IBOV) fechou esta terça-feira (12)...  12/07/2022 - 17:08   \n",
       "1  No aguardo da direção que os mercados financei...   05/08/2022 - 8:08   \n",
       "2  Os economistas ouvidos pelo Banco Central revi...   18/07/2022 - 8:34   \n",
       "3  Sócio da Verde Asset Management, o gestor Luis...   04/08/2022 - 7:19   \n",
       "4  O dólar comercial sobe 0,5%, perto de R$ 5,14,...  09/08/2022 - 11:43   \n",
       "\n",
       "   Pagina  Target  \n",
       "0      53       0  \n",
       "1      22       1  \n",
       "2      46       0  \n",
       "3      24       0  \n",
       "4      19       1  "
      ]
     },
     "execution_count": 6,
     "metadata": {},
     "output_type": "execute_result"
    }
   ],
   "source": [
    "test = pd.read_excel(filename, sheet_name = 'Teste')\n",
    "test.head(5)"
   ]
  },
  {
   "cell_type": "markdown",
   "metadata": {},
   "source": [
    "___\n",
    "## Classificador automático\n"
   ]
  },
  {
   "cell_type": "markdown",
   "metadata": {},
   "source": [
    "Faça aqui uma descrição do seu assunto e o que considerou como relevante ou não relevante na classificação das notícias (Target).\n",
    "Nosso assunto escolhido é sobre o Dólar. Vamos considerar como relevates os seguintes pontos:\n",
    "-Alta\n",
    "-Baixa\n",
    "-Queda\n",
    "-Crescimento\n",
    "-Mercado\n",
    "-Internacional\n",
    "-Estados Unidos\n",
    "-Instabilidade\n",
    "-Moeda\n",
    "-Valor\n",
    "-Preço\n",
    "-Dinheiro\n",
    "\n",
    "As irrelevantes seriam todas que não se encaixam nos padrões acima\n"
   ]
  },
  {
   "cell_type": "markdown",
   "metadata": {},
   "source": [
    "___\n",
    "### Montando um Classificador Naive-Bayes\n",
    "\n",
    "Considerando apenas as mensagens da planilha Treinamento, ensine  seu classificador."
   ]
  },
  {
   "cell_type": "code",
   "execution_count": 7,
   "metadata": {},
   "outputs": [
    {
     "name": "stdout",
     "output_type": "stream",
     "text": [
      "['a', 'à', 'ao', 'aos', 'aquela', 'aquelas', 'aquele', 'aqueles', 'aquilo', 'as', 'às', 'até', 'com', 'como', 'da', 'das', 'de', 'dela', 'delas', 'dele', 'deles', 'depois', 'do', 'dos', 'e', 'é', 'ela', 'elas', 'ele', 'eles', 'em', 'entre', 'era', 'eram', 'éramos', 'essa', 'essas', 'esse', 'esses', 'esta', 'está', 'estamos', 'estão', 'estar', 'estas', 'estava', 'estavam', 'estávamos', 'este', 'esteja', 'estejam', 'estejamos', 'estes', 'esteve', 'estive', 'estivemos', 'estiver', 'estivera', 'estiveram', 'estivéramos', 'estiverem', 'estivermos', 'estivesse', 'estivessem', 'estivéssemos', 'estou', 'eu', 'foi', 'fomos', 'for', 'fora', 'foram', 'fôramos', 'forem', 'formos', 'fosse', 'fossem', 'fôssemos', 'fui', 'há', 'haja', 'hajam', 'hajamos', 'hão', 'havemos', 'haver', 'hei', 'houve', 'houvemos', 'houver', 'houvera', 'houverá', 'houveram', 'houvéramos', 'houverão', 'houverei', 'houverem', 'houveremos', 'houveria', 'houveriam', 'houveríamos', 'houvermos', 'houvesse', 'houvessem', 'houvéssemos', 'isso', 'isto', 'já', 'lhe', 'lhes', 'mais', 'mas', 'me', 'mesmo', 'meu', 'meus', 'minha', 'minhas', 'muito', 'na', 'não', 'nas', 'nem', 'no', 'nos', 'nós', 'nossa', 'nossas', 'nosso', 'nossos', 'num', 'numa', 'o', 'os', 'ou', 'para', 'pela', 'pelas', 'pelo', 'pelos', 'por', 'qual', 'quando', 'que', 'quem', 'são', 'se', 'seja', 'sejam', 'sejamos', 'sem', 'ser', 'será', 'serão', 'serei', 'seremos', 'seria', 'seriam', 'seríamos', 'seu', 'seus', 'só', 'somos', 'sou', 'sua', 'suas', 'também', 'te', 'tem', 'tém', 'temos', 'tenha', 'tenham', 'tenhamos', 'tenho', 'terá', 'terão', 'terei', 'teremos', 'teria', 'teriam', 'teríamos', 'teu', 'teus', 'teve', 'tinha', 'tinham', 'tínhamos', 'tive', 'tivemos', 'tiver', 'tivera', 'tiveram', 'tivéramos', 'tiverem', 'tivermos', 'tivesse', 'tivessem', 'tivéssemos', 'tu', 'tua', 'tuas', 'um', 'uma', 'você', 'vocês', 'vos', 'o', 'nesta', 'que', 'r', 'após', 'desta']\n"
     ]
    },
    {
     "name": "stderr",
     "output_type": "stream",
     "text": [
      "[nltk_data] Downloading package stopwords to\n",
      "[nltk_data]     C:\\Users\\bebec\\AppData\\Roaming\\nltk_data...\n",
      "[nltk_data]   Package stopwords is already up-to-date!\n"
     ]
    }
   ],
   "source": [
    "\n",
    "from IPython.display import display\n",
    "pd.options.display.max_rows = 13\n",
    "import re \n",
    "import nltk\n",
    "nltk.download('stopwords')\n",
    "\n",
    "stopwords = nltk.corpus.stopwords.words('portuguese')\n",
    "\n",
    "\n",
    "cleanwords = ['o','nesta','que','r','após','desta']\n",
    "for i in cleanwords:\n",
    "    stopwords.append(i)\n",
    "\n",
    "def cleanup(text):\n",
    "    \"\"\"\n",
    "        Função de limpeza muito simples que troca alguns sinais básicos por espaços\n",
    "    \"\"\"\n",
    "    #import string\n",
    "    punctuation = '[’‘''!-.:?;]' # Note que os sinais [] são delimitadores de um conjunto.\n",
    "    pattern = re.compile(punctuation)\n",
    "    text_subbed = re.sub(pattern, '', text)\n",
    "    return text_subbed\n",
    "    \n",
    "print(stopwords)\n"
   ]
  },
  {
   "cell_type": "code",
   "execution_count": 8,
   "metadata": {},
   "outputs": [],
   "source": [
    "import spacy\n",
    "nlp= spacy.load('pt_core_news_lg')\n",
    "from functools import total_ordering\n",
    "\n",
    "titulo = train.Titulo.apply(cleanup) # .apply() aplica a função em cada valor da série\n",
    "\n",
    "texto_e_categorias = train.loc[:,['Titulo','PrimeiroParag','Target']]\n",
    "#print(texto_e_categorias.head(10))\n",
    "\n",
    "#primeiro_paragraf = list(train.PrimeiroParag)\n",
    "#clean_primeiro = []\n",
    "#print(len(primeiro_paragraf))\n",
    "\n",
    "tit = list(train.Titulo)\n",
    "p1o = list(train.PrimeiroParag)\n",
    "trgt = list(train.Target)\n",
    "\n",
    "\n",
    "# ideia2 - juntar todas as palavras de cada target e ver as suas frequências\n",
    "relevante_palavras = []\n",
    "irrelevante_palavras = [] \n",
    "total_vocabulario = []\n",
    "\n",
    "for i in range(len(train.Titulo)):\n",
    "    tit_noticiai =  cleanup(str(tit[i]))\n",
    "    p1o_noticiai =  cleanup(str(p1o[i]))\n",
    "    tipo = trgt[i]\n",
    "    if tipo == 1:\n",
    "        relevante_palavras.append(tit_noticiai.lower().split())\n",
    "        relevante_palavras.append(p1o_noticiai.lower().split())\n",
    "    else: \n",
    "       irrelevante_palavras.append(p1o_noticiai.lower().split())\n",
    "       irrelevante_palavras.append(tit_noticiai.lower().split())\n",
    "\n",
    "    total_vocabulario.append(tit_noticiai.lower().split())\n",
    "    total_vocabulario.append(p1o_noticiai.lower().split())\n",
    "\n",
    "def limpa_stopword(lista):\n",
    "    string = ''\n",
    "    for frase in lista:\n",
    "        for palavra in frase:\n",
    "            if palavra not in stopwords:\n",
    "                string += palavra\n",
    "                string += ' '\n",
    "    return string\n",
    "\n",
    "total_voc_limpo=limpa_stopword(total_vocabulario)\n",
    "relevante_limpo=limpa_stopword(relevante_palavras)\n",
    "irrelevante_limpo=limpa_stopword(irrelevante_palavras)\n",
    "\n",
    "voc_nlp=nlp(total_voc_limpo)\n",
    "ire_nlp=nlp(irrelevante_limpo)\n",
    "rel_nlp=nlp(relevante_limpo)\n",
    "\n",
    "def spacyy(text):\n",
    "    empty_list = []\n",
    "    for token in text:\n",
    "        empty_list.append(token.lemma_)\n",
    "    final_string = ' '.join(map(str,empty_list))\n",
    "    return final_string\n",
    "\n",
    "\n",
    "voc_final=spacyy(voc_nlp)\n",
    "ire_final=spacyy(ire_nlp)\n",
    "rel_final=spacyy(rel_nlp)\n",
    "total_voc_limpo=pd.Series(voc_final.split())\n",
    "relevantes_limpo=pd.Series(rel_final.split())\n",
    "irelevantes_limpo=pd.Series(ire_final.split())"
   ]
  },
  {
   "cell_type": "code",
   "execution_count": 9,
   "metadata": {},
   "outputs": [
    {
     "data": {
      "text/plain": [
       "dólar       160\n",
       "ibovespa    129\n",
       "alta         96\n",
       "queda        76\n",
       "mercado      75\n",
       "mercados     72\n",
       "dia          72\n",
       "brasil       55\n",
       "preços       54\n",
       "pregão       53\n",
       "dtype: int64"
      ]
     },
     "execution_count": 9,
     "metadata": {},
     "output_type": "execute_result"
    }
   ],
   "source": [
    "# Frequências:\n",
    "# Vocabulário total ---- procurar o jeito que tira o de/a/do/e/etc. \n",
    "total_voc_limpo.value_counts().head(10)\n"
   ]
  },
  {
   "cell_type": "code",
   "execution_count": 10,
   "metadata": {},
   "outputs": [
    {
     "data": {
      "text/plain": [
       "ibovespa      50\n",
       "mercado       42\n",
       "alta          40\n",
       "dia           34\n",
       "brasil        34\n",
       "preços        32\n",
       "ano           30\n",
       "queda         30\n",
       "sextafeira    30\n",
       "açúcar        29\n",
       "dtype: int64"
      ]
     },
     "execution_count": 10,
     "metadata": {},
     "output_type": "execute_result"
    }
   ],
   "source": [
    "# Irrelevantes (Target = 0)\n",
    "irelevantes_limpo.value_counts().head(10)\n"
   ]
  },
  {
   "cell_type": "code",
   "execution_count": 15,
   "metadata": {},
   "outputs": [
    {
     "data": {
      "text/plain": [
       "dólar       158\n",
       "ibovespa     79\n",
       "alta         56\n",
       "mercados     51\n",
       "moeda        46\n",
       "queda        46\n",
       "pregão       41\n",
       "dia          38\n",
       "estados      38\n",
       "unidos       37\n",
       "dtype: int64"
      ]
     },
     "execution_count": 15,
     "metadata": {},
     "output_type": "execute_result"
    }
   ],
   "source": [
    "# Relevantes (Target = 1)\n",
    "relevantes_limpo.value_counts().head(10)\n"
   ]
  },
  {
   "cell_type": "code",
   "execution_count": 38,
   "metadata": {},
   "outputs": [
    {
     "ename": "IndexError",
     "evalue": "list index out of range",
     "output_type": "error",
     "traceback": [
      "\u001b[1;31m---------------------------------------------------------------------------\u001b[0m",
      "\u001b[1;31mIndexError\u001b[0m                                Traceback (most recent call last)",
      "\u001b[1;32mc:\\Users\\bebec\\OneDrive\\Área de Trabalho\\INSPER\\CDADOS\\CD22-2\\projeto01\\22-2a-cd-p1-grupo_renatogp\\data\\relatorio_modelo.ipynb Célula: 19\u001b[0m in \u001b[0;36m<cell line: 47>\u001b[1;34m()\u001b[0m\n\u001b[0;32m     <a href='vscode-notebook-cell:/c%3A/Users/bebec/OneDrive/%C3%81rea%20de%20Trabalho/INSPER/CDADOS/CD22-2/projeto01/22-2a-cd-p1-grupo_renatogp/data/relatorio_modelo.ipynb#X24sZmlsZQ%3D%3D?line=42'>43</a>\u001b[0m     \u001b[39mreturn\u001b[39;00m classificação \n\u001b[0;32m     <a href='vscode-notebook-cell:/c%3A/Users/bebec/OneDrive/%C3%81rea%20de%20Trabalho/INSPER/CDADOS/CD22-2/projeto01/22-2a-cd-p1-grupo_renatogp/data/relatorio_modelo.ipynb#X24sZmlsZQ%3D%3D?line=45'>46</a>\u001b[0m test \u001b[39m=\u001b[39m pd\u001b[39m.\u001b[39mread_excel(filename, sheet_name \u001b[39m=\u001b[39m \u001b[39m'\u001b[39m\u001b[39mTeste\u001b[39m\u001b[39m'\u001b[39m)\n\u001b[1;32m---> <a href='vscode-notebook-cell:/c%3A/Users/bebec/OneDrive/%C3%81rea%20de%20Trabalho/INSPER/CDADOS/CD22-2/projeto01/22-2a-cd-p1-grupo_renatogp/data/relatorio_modelo.ipynb#X24sZmlsZQ%3D%3D?line=46'>47</a>\u001b[0m x \u001b[39m=\u001b[39m classificador_naive_bayes(test)\n",
      "\u001b[1;32mc:\\Users\\bebec\\OneDrive\\Área de Trabalho\\INSPER\\CDADOS\\CD22-2\\projeto01\\22-2a-cd-p1-grupo_renatogp\\data\\relatorio_modelo.ipynb Célula: 19\u001b[0m in \u001b[0;36mclassificador_naive_bayes\u001b[1;34m(mensagens_df)\u001b[0m\n\u001b[0;32m     <a href='vscode-notebook-cell:/c%3A/Users/bebec/OneDrive/%C3%81rea%20de%20Trabalho/INSPER/CDADOS/CD22-2/projeto01/22-2a-cd-p1-grupo_renatogp/data/relatorio_modelo.ipynb#X24sZmlsZQ%3D%3D?line=13'>14</a>\u001b[0m i \u001b[39m=\u001b[39m \u001b[39m0\u001b[39m \n\u001b[0;32m     <a href='vscode-notebook-cell:/c%3A/Users/bebec/OneDrive/%C3%81rea%20de%20Trabalho/INSPER/CDADOS/CD22-2/projeto01/22-2a-cd-p1-grupo_renatogp/data/relatorio_modelo.ipynb#X24sZmlsZQ%3D%3D?line=15'>16</a>\u001b[0m \u001b[39mwhile\u001b[39;00m i \u001b[39m<\u001b[39m \u001b[39mlen\u001b[39m(mensagens_df\u001b[39m.\u001b[39mTitulo):\n\u001b[1;32m---> <a href='vscode-notebook-cell:/c%3A/Users/bebec/OneDrive/%C3%81rea%20de%20Trabalho/INSPER/CDADOS/CD22-2/projeto01/22-2a-cd-p1-grupo_renatogp/data/relatorio_modelo.ipynb#X24sZmlsZQ%3D%3D?line=16'>17</a>\u001b[0m     tit \u001b[39m=\u001b[39m limpa_stopword(cleanup(\u001b[39mstr\u001b[39m(tit[i]))\u001b[39m.\u001b[39mlower()\u001b[39m.\u001b[39msplit())\u001b[39m.\u001b[39msplit()\n\u001b[0;32m     <a href='vscode-notebook-cell:/c%3A/Users/bebec/OneDrive/%C3%81rea%20de%20Trabalho/INSPER/CDADOS/CD22-2/projeto01/22-2a-cd-p1-grupo_renatogp/data/relatorio_modelo.ipynb#X24sZmlsZQ%3D%3D?line=17'>18</a>\u001b[0m     p1o \u001b[39m=\u001b[39m limpa_stopword(cleanup(\u001b[39mstr\u001b[39m(p1o[i]))\u001b[39m.\u001b[39mlower()\u001b[39m.\u001b[39msplit())\u001b[39m.\u001b[39msplit()\n\u001b[0;32m     <a href='vscode-notebook-cell:/c%3A/Users/bebec/OneDrive/%C3%81rea%20de%20Trabalho/INSPER/CDADOS/CD22-2/projeto01/22-2a-cd-p1-grupo_renatogp/data/relatorio_modelo.ipynb#X24sZmlsZQ%3D%3D?line=18'>19</a>\u001b[0m     mensagem \u001b[39m=\u001b[39m tit \u001b[39m+\u001b[39m p1o \u001b[39m# sera q junta ou faz de cada um e multiplica? --- perguntar \u001b[39;00m\n",
      "\u001b[1;31mIndexError\u001b[0m: list index out of range"
     ]
    }
   ],
   "source": [
    "# calculo de probabilidades para o suavizador\n",
    "from re import X\n",
    "\n",
    "\n",
    "qtd_relevantes = len(relevantes_limpo) + len(total_voc_limpo) \n",
    "qtd_irrelevantes = len(irelevantes_limpo)  + len(total_voc_limpo) \n",
    "\n",
    "\n",
    "def classificador_naive_bayes(mensagens_df):\n",
    "    tit = list(mensagens_df.iloc[:,1])\n",
    "    p1o = list(mensagens_df.iloc[:,2])\n",
    "    trgt = list(mensagens_df.iloc[:,5])\n",
    "    classificação = []\n",
    "    i = 0 \n",
    "\n",
    "    while i < len(mensagens_df.Titulo):\n",
    "        tit = limpa_stopword(cleanup(str(tit[i])).lower().split()).split()\n",
    "        p1o = limpa_stopword(cleanup(str(p1o[i])).lower().split()).split()\n",
    "        mensagem = tit + p1o # sera q junta ou faz de cada um e multiplica? --- perguntar \n",
    "        P_m_relevante = 1 \n",
    "        P_m_irrelevante = 1 \n",
    "\n",
    "        for m in mensagem: \n",
    "            if m in relevantes_limpo:\n",
    "                x = relevantes_limpo.value_counts()[m]\n",
    "                P_m_relevante *= (x+1)/qtd_relevantes \n",
    "            elif m not in relevantes_limpo:\n",
    "                P_m_relevante *= (0 + 1)/qtd_relevantes\n",
    "\n",
    "            if m in irelevantes_limpo:\n",
    "                xi = irelevantes_limpo.value_counts()[m]\n",
    "                P_m_irrelevante *= (xi+1)/qtd_irrelevantes\n",
    "            elif m not in irelevantes_limpo:\n",
    "                P_m_irrelevante *= (0+1)/qtd_irrelevantes \n",
    "\n",
    "        if P_m_relevante > P_m_irrelevante:\n",
    "            classificação.append(1)\n",
    "        elif P_m_irrelevante > P_m_relevante:\n",
    "            classificação.append(0)\n",
    "        \n",
    "        i += 1 \n",
    "\n",
    "    return classificação \n",
    "\n",
    "            \n",
    "test = pd.read_excel(filename, sheet_name = 'Teste')\n",
    "x = classificador_naive_bayes(test)\n",
    "#print(len(train.Titulo))\n",
    "#print(len(train.PrimeiroParag))\n",
    "#print(x)        \n",
    "\n",
    "\n",
    "\n"
   ]
  },
  {
   "cell_type": "markdown",
   "metadata": {},
   "source": [
    "___\n",
    "### Verificando a performance do Classificador\n",
    "\n",
    "Agora você deve testar o seu classificador com a base de Testes."
   ]
  },
  {
   "cell_type": "code",
   "execution_count": null,
   "metadata": {},
   "outputs": [],
   "source": []
  },
  {
   "cell_type": "code",
   "execution_count": null,
   "metadata": {},
   "outputs": [],
   "source": []
  },
  {
   "cell_type": "code",
   "execution_count": null,
   "metadata": {},
   "outputs": [],
   "source": []
  },
  {
   "cell_type": "markdown",
   "metadata": {},
   "source": [
    "___\n",
    "### Concluindo"
   ]
  },
  {
   "cell_type": "code",
   "execution_count": null,
   "metadata": {},
   "outputs": [],
   "source": []
  },
  {
   "cell_type": "code",
   "execution_count": null,
   "metadata": {},
   "outputs": [],
   "source": []
  },
  {
   "cell_type": "code",
   "execution_count": null,
   "metadata": {},
   "outputs": [],
   "source": []
  },
  {
   "cell_type": "markdown",
   "metadata": {},
   "source": [
    "___\n",
    "### Qualidade do Classificador a partir de novas separações das notícias entre Treinamento e Teste\n",
    "\n",
    "Caso for fazer esse item do Projeto"
   ]
  },
  {
   "cell_type": "code",
   "execution_count": null,
   "metadata": {},
   "outputs": [],
   "source": []
  },
  {
   "cell_type": "code",
   "execution_count": null,
   "metadata": {},
   "outputs": [],
   "source": []
  },
  {
   "cell_type": "code",
   "execution_count": null,
   "metadata": {},
   "outputs": [],
   "source": []
  },
  {
   "attachments": {},
   "cell_type": "markdown",
   "metadata": {},
   "source": [
    "___\n",
    "## Aperfeiçoamento:\n",
    "\n",
    "Trabalhos que conseguirem pelo menos conceito B vão evoluir em conceito dependendo da quantidade de itens avançados:\n",
    "\n",
    "* IMPLEMENTOU outras limpezas e transformações que não afetem a qualidade da informação contida nas notícias. Ex: stemming, lemmatization, stopwords\n",
    "* CONSIDEROU mais de duas caterogias na variável Target e INCREMENTOU a quantidade de notícias, mantendo pelo menos 250 notícias por caterogia (OBRIGATÓRIO PARA TRIOS, sem contar como item avançado)\n",
    "* Para Target com duas categorias: CRIOU pelo menos quatro categorias intermediárias de relevância baseadas na probabilidade: ex.: muito relevante, relevante, neutro, irrelevante, muito irrelevante\n",
    "* EXPLICOU porquê não pode usar o próprio classificador para gerar mais amostras de treinamento\n",
    "* PROPÔS diferentes cenários para Naïve Bayes fora do contexto do projeto (pelo menos dois cenários, exceto aqueles já apresentados em sala pelos professores: por exemplo, filtro de spam)\n",
    "* SUGERIU e EXPLICOU melhorias reais com indicações concretas de como implementar (indicar como fazer e indicar material de pesquisa)\n",
    "* FEZ o item Qualidade do Classificador a partir de novas separações das Notícias entre Treinamento e Teste descrito no enunciado do projeto (OBRIGATÓRIO para conceitos A ou A+)"
   ]
  },
  {
   "cell_type": "markdown",
   "metadata": {},
   "source": [
    "___\n",
    "## Referências"
   ]
  },
  {
   "cell_type": "markdown",
   "metadata": {},
   "source": [
    "[Naive Bayes and Text Classification](https://arxiv.org/pdf/1410.5329.pdf)  **Mais completo**\n",
    "\n",
    "[A practical explanation of a Naive Bayes Classifier](https://monkeylearn.com/blog/practical-explanation-naive-bayes-classifier/) **Mais simples**"
   ]
  },
  {
   "cell_type": "code",
   "execution_count": null,
   "metadata": {},
   "outputs": [],
   "source": []
  }
 ],
 "metadata": {
  "kernelspec": {
   "display_name": "Python 3.10.4 64-bit",
   "language": "python",
   "name": "python3"
  },
  "language_info": {
   "codemirror_mode": {
    "name": "ipython",
    "version": 3
   },
   "file_extension": ".py",
   "mimetype": "text/x-python",
   "name": "python",
   "nbconvert_exporter": "python",
   "pygments_lexer": "ipython3",
   "version": "3.10.4"
  },
  "vscode": {
   "interpreter": {
    "hash": "cdcf8f726040b12d3568ceac60b6ca4b3e4ab6e019e8147e37d5985e50983e9a"
   }
  }
 },
 "nbformat": 4,
 "nbformat_minor": 4
}
